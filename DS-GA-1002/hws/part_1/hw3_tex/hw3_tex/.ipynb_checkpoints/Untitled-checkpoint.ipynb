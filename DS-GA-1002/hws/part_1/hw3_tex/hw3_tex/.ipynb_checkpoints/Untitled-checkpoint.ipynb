{
 "cells": [
  {
   "cell_type": "code",
   "execution_count": 1,
   "id": "02682291",
   "metadata": {},
   "outputs": [],
   "source": [
    "import numpy as np"
   ]
  },
  {
   "cell_type": "code",
   "execution_count": null,
   "id": "4b3b67ef",
   "metadata": {},
   "outputs": [],
   "source": [
    "def rect_kernel(a, x, h):\n",
    "    # a is the input\n",
    "    # x is the data point\n",
    "    # h is the width\n",
    "    return 1/h if a <= x + h/2 and a >= x - h/2 else 0\n",
    "    \n",
    "    \n",
    "    \n",
    "def gauss_kernel(a, x, h):\n",
    "    # \n",
    "    \n",
    "    \n",
    "def compute_epdf(a):\n",
    "    "
   ]
  }
 ],
 "metadata": {
  "kernelspec": {
   "display_name": "Python 3 (ipykernel)",
   "language": "python",
   "name": "python3"
  },
  "language_info": {
   "codemirror_mode": {
    "name": "ipython",
    "version": 3
   },
   "file_extension": ".py",
   "mimetype": "text/x-python",
   "name": "python",
   "nbconvert_exporter": "python",
   "pygments_lexer": "ipython3",
   "version": "3.10.11"
  }
 },
 "nbformat": 4,
 "nbformat_minor": 5
}
