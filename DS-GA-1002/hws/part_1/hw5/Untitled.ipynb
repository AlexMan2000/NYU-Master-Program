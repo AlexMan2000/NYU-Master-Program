{
 "cells": [
  {
   "cell_type": "code",
   "execution_count": 3,
   "id": "85a729aa",
   "metadata": {},
   "outputs": [],
   "source": [
    "import numpy as np\n",
    "import pandas as pd\n",
    "import matplotlib.pyplot as plt\n",
    "%matplotlib inline"
   ]
  },
  {
   "cell_type": "code",
   "execution_count": 4,
   "id": "4eddb80e",
   "metadata": {},
   "outputs": [
    {
     "data": {
      "text/html": [
       "<div>\n",
       "<style scoped>\n",
       "    .dataframe tbody tr th:only-of-type {\n",
       "        vertical-align: middle;\n",
       "    }\n",
       "\n",
       "    .dataframe tbody tr th {\n",
       "        vertical-align: top;\n",
       "    }\n",
       "\n",
       "    .dataframe thead th {\n",
       "        text-align: right;\n",
       "    }\n",
       "</style>\n",
       "<table border=\"1\" class=\"dataframe\">\n",
       "  <thead>\n",
       "    <tr style=\"text-align: right;\">\n",
       "      <th></th>\n",
       "      <th>Dates</th>\n",
       "      <th>aapl</th>\n",
       "      <th>amzn</th>\n",
       "      <th>msft</th>\n",
       "      <th>goog</th>\n",
       "      <th>xom</th>\n",
       "      <th>apc</th>\n",
       "      <th>cvx</th>\n",
       "      <th>c</th>\n",
       "      <th>gs</th>\n",
       "      <th>jpm</th>\n",
       "      <th>aet</th>\n",
       "      <th>jnj</th>\n",
       "      <th>dgx</th>\n",
       "      <th>spy</th>\n",
       "      <th>xlf</th>\n",
       "      <th>sso</th>\n",
       "      <th>sds</th>\n",
       "      <th>uso</th>\n",
       "    </tr>\n",
       "  </thead>\n",
       "  <tbody>\n",
       "    <tr>\n",
       "      <th>0</th>\n",
       "      <td>2016-01-05T00:00:00.000000000</td>\n",
       "      <td>-2.550804</td>\n",
       "      <td>-3.200012</td>\n",
       "      <td>0.239204</td>\n",
       "      <td>0.739990</td>\n",
       "      <td>0.619774</td>\n",
       "      <td>-0.605922</td>\n",
       "      <td>0.706352</td>\n",
       "      <td>-0.264831</td>\n",
       "      <td>-2.975281</td>\n",
       "      <td>0.105781</td>\n",
       "      <td>1.492623</td>\n",
       "      <td>0.400551</td>\n",
       "      <td>0.019310</td>\n",
       "      <td>0.328171</td>\n",
       "      <td>0.054300</td>\n",
       "      <td>0.267940</td>\n",
       "      <td>-0.239998</td>\n",
       "      <td>-0.32</td>\n",
       "    </tr>\n",
       "    <tr>\n",
       "      <th>1</th>\n",
       "      <td>2016-01-06T00:00:00.000000000</td>\n",
       "      <td>-1.942085</td>\n",
       "      <td>-1.139954</td>\n",
       "      <td>-0.956821</td>\n",
       "      <td>1.039978</td>\n",
       "      <td>-0.610390</td>\n",
       "      <td>-4.718247</td>\n",
       "      <td>-3.290100</td>\n",
       "      <td>-0.725819</td>\n",
       "      <td>-4.145889</td>\n",
       "      <td>-0.884708</td>\n",
       "      <td>-0.549904</td>\n",
       "      <td>-0.486397</td>\n",
       "      <td>-1.062820</td>\n",
       "      <td>-2.451645</td>\n",
       "      <td>-0.217214</td>\n",
       "      <td>-1.637440</td>\n",
       "      <td>2.079994</td>\n",
       "      <td>-0.55</td>\n",
       "    </tr>\n",
       "    <tr>\n",
       "      <th>2</th>\n",
       "      <td>2016-01-07T00:00:00.000000000</td>\n",
       "      <td>-4.106422</td>\n",
       "      <td>-24.710022</td>\n",
       "      <td>-1.798817</td>\n",
       "      <td>-17.229980</td>\n",
       "      <td>-1.164451</td>\n",
       "      <td>-3.635540</td>\n",
       "      <td>-2.834702</td>\n",
       "      <td>-2.510910</td>\n",
       "      <td>-5.092087</td>\n",
       "      <td>-2.442589</td>\n",
       "      <td>0.049087</td>\n",
       "      <td>-1.115806</td>\n",
       "      <td>-1.478310</td>\n",
       "      <td>-4.604080</td>\n",
       "      <td>-0.392194</td>\n",
       "      <td>-2.828319</td>\n",
       "      <td>4.040001</td>\n",
       "      <td>-0.21</td>\n",
       "    </tr>\n",
       "    <tr>\n",
       "      <th>3</th>\n",
       "      <td>2016-01-08T00:00:00.000000000</td>\n",
       "      <td>0.492782</td>\n",
       "      <td>-0.890014</td>\n",
       "      <td>0.153099</td>\n",
       "      <td>-11.920044</td>\n",
       "      <td>-1.446183</td>\n",
       "      <td>0.446995</td>\n",
       "      <td>-0.827179</td>\n",
       "      <td>-1.402592</td>\n",
       "      <td>-0.663376</td>\n",
       "      <td>-1.298229</td>\n",
       "      <td>-3.142364</td>\n",
       "      <td>-1.010910</td>\n",
       "      <td>-0.340065</td>\n",
       "      <td>-2.055924</td>\n",
       "      <td>-0.211180</td>\n",
       "      <td>-1.210716</td>\n",
       "      <td>1.959999</td>\n",
       "      <td>-0.10</td>\n",
       "    </tr>\n",
       "    <tr>\n",
       "      <th>4</th>\n",
       "      <td>2016-01-11T00:00:00.000000000</td>\n",
       "      <td>1.516953</td>\n",
       "      <td>10.690002</td>\n",
       "      <td>-0.028709</td>\n",
       "      <td>1.560058</td>\n",
       "      <td>-0.939079</td>\n",
       "      <td>-2.791214</td>\n",
       "      <td>-1.263992</td>\n",
       "      <td>0.706192</td>\n",
       "      <td>1.746155</td>\n",
       "      <td>-0.086552</td>\n",
       "      <td>-1.718475</td>\n",
       "      <td>-0.562683</td>\n",
       "      <td>0.505249</td>\n",
       "      <td>0.183396</td>\n",
       "      <td>0.018101</td>\n",
       "      <td>0.029773</td>\n",
       "      <td>-0.159996</td>\n",
       "      <td>-0.55</td>\n",
       "    </tr>\n",
       "    <tr>\n",
       "      <th>...</th>\n",
       "      <td>...</td>\n",
       "      <td>...</td>\n",
       "      <td>...</td>\n",
       "      <td>...</td>\n",
       "      <td>...</td>\n",
       "      <td>...</td>\n",
       "      <td>...</td>\n",
       "      <td>...</td>\n",
       "      <td>...</td>\n",
       "      <td>...</td>\n",
       "      <td>...</td>\n",
       "      <td>...</td>\n",
       "      <td>...</td>\n",
       "      <td>...</td>\n",
       "      <td>...</td>\n",
       "      <td>...</td>\n",
       "      <td>...</td>\n",
       "      <td>...</td>\n",
       "      <td>...</td>\n",
       "    </tr>\n",
       "    <tr>\n",
       "      <th>427</th>\n",
       "      <td>2017-09-14T00:00:00.000000000</td>\n",
       "      <td>-1.369995</td>\n",
       "      <td>-7.389954</td>\n",
       "      <td>-0.440002</td>\n",
       "      <td>-9.980042</td>\n",
       "      <td>0.319999</td>\n",
       "      <td>0.399998</td>\n",
       "      <td>0.269997</td>\n",
       "      <td>-0.150001</td>\n",
       "      <td>0.290008</td>\n",
       "      <td>-0.180001</td>\n",
       "      <td>0.479996</td>\n",
       "      <td>1.729996</td>\n",
       "      <td>-1.290001</td>\n",
       "      <td>-0.079605</td>\n",
       "      <td>-0.049793</td>\n",
       "      <td>-0.070000</td>\n",
       "      <td>0.040001</td>\n",
       "      <td>0.06</td>\n",
       "    </tr>\n",
       "    <tr>\n",
       "      <th>428</th>\n",
       "      <td>2017-09-15T00:00:00.000000000</td>\n",
       "      <td>1.600006</td>\n",
       "      <td>-5.420044</td>\n",
       "      <td>0.540001</td>\n",
       "      <td>-4.820007</td>\n",
       "      <td>-0.019996</td>\n",
       "      <td>0.020000</td>\n",
       "      <td>0.180000</td>\n",
       "      <td>-0.199997</td>\n",
       "      <td>-1.630005</td>\n",
       "      <td>0.650002</td>\n",
       "      <td>-0.100006</td>\n",
       "      <td>0.270004</td>\n",
       "      <td>-0.639999</td>\n",
       "      <td>0.335006</td>\n",
       "      <td>0.073001</td>\n",
       "      <td>0.280007</td>\n",
       "      <td>-0.130002</td>\n",
       "      <td>0.07</td>\n",
       "    </tr>\n",
       "    <tr>\n",
       "      <th>429</th>\n",
       "      <td>2017-09-18T00:00:00.000000000</td>\n",
       "      <td>-1.210007</td>\n",
       "      <td>-12.599976</td>\n",
       "      <td>-0.149994</td>\n",
       "      <td>-5.289978</td>\n",
       "      <td>0.019996</td>\n",
       "      <td>0.209999</td>\n",
       "      <td>0.560005</td>\n",
       "      <td>1.559997</td>\n",
       "      <td>2.309998</td>\n",
       "      <td>1.299995</td>\n",
       "      <td>-1.679993</td>\n",
       "      <td>0.930008</td>\n",
       "      <td>-1.099998</td>\n",
       "      <td>0.529999</td>\n",
       "      <td>0.289999</td>\n",
       "      <td>0.369995</td>\n",
       "      <td>-0.159999</td>\n",
       "      <td>-0.03</td>\n",
       "    </tr>\n",
       "    <tr>\n",
       "      <th>430</th>\n",
       "      <td>2017-09-19T00:00:00.000000000</td>\n",
       "      <td>0.059998</td>\n",
       "      <td>-4.330017</td>\n",
       "      <td>0.279998</td>\n",
       "      <td>6.809998</td>\n",
       "      <td>0.130005</td>\n",
       "      <td>0.000000</td>\n",
       "      <td>1.149994</td>\n",
       "      <td>0.550004</td>\n",
       "      <td>1.380005</td>\n",
       "      <td>1.020004</td>\n",
       "      <td>-4.960007</td>\n",
       "      <td>-0.160004</td>\n",
       "      <td>-2.000000</td>\n",
       "      <td>0.250000</td>\n",
       "      <td>0.190001</td>\n",
       "      <td>0.139999</td>\n",
       "      <td>-0.090001</td>\n",
       "      <td>-0.06</td>\n",
       "    </tr>\n",
       "    <tr>\n",
       "      <th>431</th>\n",
       "      <td>2017-09-20T00:00:00.000000000</td>\n",
       "      <td>-2.659989</td>\n",
       "      <td>3.350037</td>\n",
       "      <td>-0.500000</td>\n",
       "      <td>9.770019</td>\n",
       "      <td>0.330002</td>\n",
       "      <td>1.050003</td>\n",
       "      <td>0.030007</td>\n",
       "      <td>0.309997</td>\n",
       "      <td>0.879989</td>\n",
       "      <td>0.659996</td>\n",
       "      <td>-1.009994</td>\n",
       "      <td>-2.000000</td>\n",
       "      <td>-0.059998</td>\n",
       "      <td>0.089997</td>\n",
       "      <td>0.150000</td>\n",
       "      <td>0.080002</td>\n",
       "      <td>-0.039997</td>\n",
       "      <td>0.13</td>\n",
       "    </tr>\n",
       "  </tbody>\n",
       "</table>\n",
       "<p>432 rows × 19 columns</p>\n",
       "</div>"
      ],
      "text/plain": [
       "                             Dates      aapl       amzn      msft       goog  \\\n",
       "0    2016-01-05T00:00:00.000000000 -2.550804  -3.200012  0.239204   0.739990   \n",
       "1    2016-01-06T00:00:00.000000000 -1.942085  -1.139954 -0.956821   1.039978   \n",
       "2    2016-01-07T00:00:00.000000000 -4.106422 -24.710022 -1.798817 -17.229980   \n",
       "3    2016-01-08T00:00:00.000000000  0.492782  -0.890014  0.153099 -11.920044   \n",
       "4    2016-01-11T00:00:00.000000000  1.516953  10.690002 -0.028709   1.560058   \n",
       "..                             ...       ...        ...       ...        ...   \n",
       "427  2017-09-14T00:00:00.000000000 -1.369995  -7.389954 -0.440002  -9.980042   \n",
       "428  2017-09-15T00:00:00.000000000  1.600006  -5.420044  0.540001  -4.820007   \n",
       "429  2017-09-18T00:00:00.000000000 -1.210007 -12.599976 -0.149994  -5.289978   \n",
       "430  2017-09-19T00:00:00.000000000  0.059998  -4.330017  0.279998   6.809998   \n",
       "431  2017-09-20T00:00:00.000000000 -2.659989   3.350037 -0.500000   9.770019   \n",
       "\n",
       "          xom       apc       cvx         c        gs       jpm       aet  \\\n",
       "0    0.619774 -0.605922  0.706352 -0.264831 -2.975281  0.105781  1.492623   \n",
       "1   -0.610390 -4.718247 -3.290100 -0.725819 -4.145889 -0.884708 -0.549904   \n",
       "2   -1.164451 -3.635540 -2.834702 -2.510910 -5.092087 -2.442589  0.049087   \n",
       "3   -1.446183  0.446995 -0.827179 -1.402592 -0.663376 -1.298229 -3.142364   \n",
       "4   -0.939079 -2.791214 -1.263992  0.706192  1.746155 -0.086552 -1.718475   \n",
       "..        ...       ...       ...       ...       ...       ...       ...   \n",
       "427  0.319999  0.399998  0.269997 -0.150001  0.290008 -0.180001  0.479996   \n",
       "428 -0.019996  0.020000  0.180000 -0.199997 -1.630005  0.650002 -0.100006   \n",
       "429  0.019996  0.209999  0.560005  1.559997  2.309998  1.299995 -1.679993   \n",
       "430  0.130005  0.000000  1.149994  0.550004  1.380005  1.020004 -4.960007   \n",
       "431  0.330002  1.050003  0.030007  0.309997  0.879989  0.659996 -1.009994   \n",
       "\n",
       "          jnj       dgx       spy       xlf       sso       sds   uso  \n",
       "0    0.400551  0.019310  0.328171  0.054300  0.267940 -0.239998 -0.32  \n",
       "1   -0.486397 -1.062820 -2.451645 -0.217214 -1.637440  2.079994 -0.55  \n",
       "2   -1.115806 -1.478310 -4.604080 -0.392194 -2.828319  4.040001 -0.21  \n",
       "3   -1.010910 -0.340065 -2.055924 -0.211180 -1.210716  1.959999 -0.10  \n",
       "4   -0.562683  0.505249  0.183396  0.018101  0.029773 -0.159996 -0.55  \n",
       "..        ...       ...       ...       ...       ...       ...   ...  \n",
       "427  1.729996 -1.290001 -0.079605 -0.049793 -0.070000  0.040001  0.06  \n",
       "428  0.270004 -0.639999  0.335006  0.073001  0.280007 -0.130002  0.07  \n",
       "429  0.930008 -1.099998  0.529999  0.289999  0.369995 -0.159999 -0.03  \n",
       "430 -0.160004 -2.000000  0.250000  0.190001  0.139999 -0.090001 -0.06  \n",
       "431 -2.000000 -0.059998  0.089997  0.150000  0.080002 -0.039997  0.13  \n",
       "\n",
       "[432 rows x 19 columns]"
      ]
     },
     "execution_count": 4,
     "metadata": {},
     "output_type": "execute_result"
    }
   ],
   "source": [
    "data_df = pd.read_csv(\"./pricedelta.csv\")\n",
    "data_df"
   ]
  },
  {
   "cell_type": "code",
   "execution_count": 16,
   "id": "4a9f84c0",
   "metadata": {},
   "outputs": [],
   "source": [
    "data_df[\"amzn_ber\"] = data_df[\"amzn\"].apply(lambda x: 1 if x > 0 else 0)\n",
    "data_df[\"jpm_ber\"] = data_df[\"jpm\"].apply(lambda x: 1 if x > 0 else 0)\n",
    "data_df[\"spy_ber\"] = data_df[\"spy\"].apply(lambda x: 1 if x > 0 else 0)"
   ]
  },
  {
   "cell_type": "code",
   "execution_count": 36,
   "id": "4f429f3a",
   "metadata": {},
   "outputs": [
    {
     "data": {
      "text/plain": [
       "array([[[0.22453704, 0.03472222],\n",
       "        [0.07407407, 0.1087963 ]],\n",
       "\n",
       "       [[0.11574074, 0.10416667],\n",
       "        [0.03703704, 0.30092593]]])"
      ]
     },
     "execution_count": 36,
     "metadata": {},
     "output_type": "execute_result"
    }
   ],
   "source": [
    "# Joint pmf of amzn, jpm, spy\n",
    "joint_pmf_matrix = np.zeros((2,2,2))\n",
    "for i in range(2):\n",
    "    for j in range(2):\n",
    "        for k in range(2):\n",
    "            joint_pmf_matrix[i,j,k] = len(data_df.query(f\"amzn_ber == {i} and jpm_ber == {j} and spy_ber == {k}\")) / len(data_df)\n",
    "joint_pmf_matrix"
   ]
  },
  {
   "cell_type": "code",
   "execution_count": 41,
   "id": "8657d9dc",
   "metadata": {},
   "outputs": [],
   "source": [
    "# Marginal pmf\n",
    "# 1. (amzn, jpm) over spy\n",
    "amzn_jpm_marginal = np.zeros((2,2))\n",
    "for i in range(2):\n",
    "    for j in range(2):\n",
    "        amzn_jpm_marginal[i,j] = len(data_df.query(f\"amzn_ber == {i} and jpm_ber == {j}\")) / len(data_df)\n",
    "\n",
    "\n",
    "# 2. (amzn, spy) over jpm\n",
    "amzn_spy_marginal = np.zeros((2,2))\n",
    "for i in range(2):\n",
    "    for j in range(2):\n",
    "        amzn_spy_marginal[i,j] = len(data_df.query(f\"amzn_ber == {i} and spy_ber == {j}\")) / len(data_df)\n",
    "\n",
    "\n",
    "# 3. (jpm, spy) over amzn\n",
    "jpm_spy_marginal = np.zeros((2,2))\n",
    "for i in range(2):\n",
    "    for j in range(2):\n",
    "        jpm_spy_marginal[i,j] = len(data_df.query(f\"jpm_ber == {i} and spy_ber == {j}\")) / len(data_df)"
   ]
  },
  {
   "cell_type": "code",
   "execution_count": 42,
   "id": "8b2fe114",
   "metadata": {},
   "outputs": [
    {
     "data": {
      "text/plain": [
       "array([[0.25925926, 0.18287037],\n",
       "       [0.21990741, 0.33796296]])"
      ]
     },
     "execution_count": 42,
     "metadata": {},
     "output_type": "execute_result"
    }
   ],
   "source": [
    "amzn_jpm_marginal"
   ]
  },
  {
   "cell_type": "code",
   "execution_count": 43,
   "id": "4370d30d",
   "metadata": {},
   "outputs": [
    {
     "data": {
      "text/plain": [
       "array([[0.29861111, 0.14351852],\n",
       "       [0.15277778, 0.40509259]])"
      ]
     },
     "execution_count": 43,
     "metadata": {},
     "output_type": "execute_result"
    }
   ],
   "source": [
    "amzn_spy_marginal"
   ]
  },
  {
   "cell_type": "code",
   "execution_count": 44,
   "id": "b6325670",
   "metadata": {},
   "outputs": [
    {
     "data": {
      "text/plain": [
       "array([[0.34027778, 0.13888889],\n",
       "       [0.11111111, 0.40972222]])"
      ]
     },
     "execution_count": 44,
     "metadata": {},
     "output_type": "execute_result"
    }
   ],
   "source": [
    "jpm_spy_marginal"
   ]
  },
  {
   "cell_type": "code",
   "execution_count": 53,
   "id": "965be130",
   "metadata": {},
   "outputs": [],
   "source": [
    "# Conditional pmf\n",
    "# 1. (amzn, jpm) given spy\n",
    "amzn_jpm_coniditional = np.zeros((2,2,2))\n",
    "for i in range(2):\n",
    "    for j in range(2):\n",
    "        for k in range(2):\n",
    "            amzn_jpm_coniditional[i,j,k] = len(data_df.query(f\"amzn_ber == {i} and jpm_ber == {j} and spy_ber == {k}\")) / len(data_df.query(f\"spy_ber == {k}\"))\n",
    "\n",
    "\n",
    "# 2. (amzn, spy) given jpm\n",
    "amzn_spy_coniditional = np.zeros((2,2,2))\n",
    "for i in range(2):\n",
    "    for j in range(2):\n",
    "        for k in range(2):\n",
    "            amzn_spy_coniditional[i,j,k] = len(data_df.query(f\"amzn_ber == {i} and spy_ber == {j} and jpm_ber == {k}\")) / len(data_df.query(f\"jpm_ber == {k}\"))\n",
    "\n",
    "\n",
    "# 3. (jpm, spy) given amzn\n",
    "jpm_spy_coniditional = np.zeros((2,2,2))\n",
    "for i in range(2):\n",
    "    for j in range(2):\n",
    "        for k in range(2):\n",
    "            jpm_spy_coniditional[i,j,k] = len(data_df.query(f\"jpm_ber == {i} and spy_ber == {j} and amzn_ber == {k}\")) / len(data_df.query(f\"amzn_ber == {k}\"))"
   ]
  },
  {
   "cell_type": "code",
   "execution_count": 54,
   "id": "c12f5aec",
   "metadata": {},
   "outputs": [
    {
     "data": {
      "text/plain": [
       "array([[[0.4974359 , 0.06329114],\n",
       "        [0.16410256, 0.19831224]],\n",
       "\n",
       "       [[0.25641026, 0.18987342],\n",
       "        [0.08205128, 0.54852321]]])"
      ]
     },
     "execution_count": 54,
     "metadata": {},
     "output_type": "execute_result"
    }
   ],
   "source": [
    "amzn_jpm_coniditional"
   ]
  },
  {
   "cell_type": "code",
   "execution_count": 55,
   "id": "1c6b77d2",
   "metadata": {},
   "outputs": [
    {
     "data": {
      "text/plain": [
       "array([[[0.46859903, 0.14222222],\n",
       "        [0.07246377, 0.20888889]],\n",
       "\n",
       "       [[0.24154589, 0.07111111],\n",
       "        [0.2173913 , 0.57777778]]])"
      ]
     },
     "execution_count": 55,
     "metadata": {},
     "output_type": "execute_result"
    }
   ],
   "source": [
    "amzn_spy_coniditional"
   ]
  },
  {
   "cell_type": "code",
   "execution_count": 56,
   "id": "f66efa6b",
   "metadata": {},
   "outputs": [
    {
     "data": {
      "text/plain": [
       "array([[[0.5078534 , 0.20746888],\n",
       "        [0.07853403, 0.18672199]],\n",
       "\n",
       "       [[0.16753927, 0.06639004],\n",
       "        [0.2460733 , 0.53941909]]])"
      ]
     },
     "execution_count": 56,
     "metadata": {},
     "output_type": "execute_result"
    }
   ],
   "source": [
    "jpm_spy_coniditional"
   ]
  },
  {
   "cell_type": "code",
   "execution_count": null,
   "id": "36e3e939",
   "metadata": {},
   "outputs": [],
   "source": []
  }
 ],
 "metadata": {
  "kernelspec": {
   "display_name": "Python 3 (ipykernel)",
   "language": "python",
   "name": "python3"
  },
  "language_info": {
   "codemirror_mode": {
    "name": "ipython",
    "version": 3
   },
   "file_extension": ".py",
   "mimetype": "text/x-python",
   "name": "python",
   "nbconvert_exporter": "python",
   "pygments_lexer": "ipython3",
   "version": "3.10.11"
  }
 },
 "nbformat": 4,
 "nbformat_minor": 5
}
