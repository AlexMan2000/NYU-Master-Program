{
 "cells": [
  {
   "cell_type": "code",
   "execution_count": null,
   "id": "brief-forum",
   "metadata": {},
   "outputs": [],
   "source": [
    "from sklearn.datasets import load_breast_cancer\n",
    "from sklearn.model_selection import train_test_split\n",
    "import numpy as np\n",
    "import matplotlib.pyplot as plt\n",
    "import scipy"
   ]
  },
  {
   "cell_type": "code",
   "execution_count": null,
   "id": "broken-idaho",
   "metadata": {},
   "outputs": [],
   "source": [
    "def ind_x_eq_val(x, val):\n",
    "    return np.where(x==val)[0]\n",
    "\n",
    "def count_x_eq_val(x, val):\n",
    "    return len(ind_x_eq_val(x, val))/float(len(x))\n",
    "\n",
    "def gaussian(x, mu, sig):\n",
    "    return np.exp(-np.power(x - mu, 2.) / (2 * np.power(sig, 2.))) / sig / np.sqrt(2 * np.pi)\n",
    "\n",
    "\n",
    "\n",
    "data, target = load_breast_cancer(return_X_y=True, as_frame=True)\n",
    "train_X, test_X, train_y, test_y = train_test_split(data, target, test_size=0.3, random_state=2022)\n",
    "print(train_X.shape, test_X.shape)"
   ]
  },
  {
   "cell_type": "markdown",
   "id": "honest-chapel",
   "metadata": {},
   "source": [
    "## Estimate $p_{\\tilde{c}}(c)$"
   ]
  },
  {
   "cell_type": "code",
   "execution_count": null,
   "id": "modern-prisoner",
   "metadata": {},
   "outputs": [],
   "source": [
    "# Estimate the pmf of C\n",
    "P_C0 = # TODO\n",
    "P_C1 = # TODO"
   ]
  },
  {
   "cell_type": "markdown",
   "id": "durable-privacy",
   "metadata": {},
   "source": [
    "## Estimate $f_{\\tilde{r}|\\tilde{c}} (r|c)$ and $f_{\\tilde{t}|\\tilde{c}} (t|c)$ with MLE"
   ]
  },
  {
   "cell_type": "code",
   "execution_count": null,
   "id": "genuine-syndication",
   "metadata": {},
   "outputs": [],
   "source": [
    "## Estimate conditional pdf of R given C\n",
    "mean_R_C = np.zeros(2)\n",
    "std_R_C = np.zeros(2)\n",
    "mean_R_C[0]= # TODO\n",
    "std_R_C[0] = # TODO\n",
    "mean_R_C[1]= # TODO\n",
    "std_R_C[1] = # TODO\n",
    "\n",
    "\n",
    "## Estimate conditional pdf of T given C\n",
    "mean_T_C = np.zeros(2)\n",
    "std_T_C = np.zeros(2)\n",
    "mean_T_C[0]= # TODO\n",
    "std_T_C[0] = # TODO\n",
    "mean_T_C[1]= # TODO\n",
    "std_T_C[1] = # TODO"
   ]
  },
  {
   "cell_type": "markdown",
   "id": "golden-girlfriend",
   "metadata": {},
   "source": [
    "## Plot the pdf and normalized histogram of $\\tilde{r}|\\tilde{c}$ and $\\tilde{t}|\\tilde{c}$"
   ]
  },
  {
   "cell_type": "code",
   "execution_count": null,
   "id": "economic-medicine",
   "metadata": {},
   "outputs": [],
   "source": [
    "n_plot = 100\n",
    "for i in range(2):\n",
    "    plt.figure(figsize=(12, 9))  \n",
    "    ax = plt.subplot(111)    \n",
    "    ax.spines[\"top\"].set_visible(False)    \n",
    "    ax.spines[\"right\"].set_visible(False)    \n",
    "    ax.get_xaxis().tick_bottom()  \n",
    "    ax.get_yaxis().tick_left() \n",
    "    yticks = ax.yaxis.get_major_ticks()\n",
    "    yticks[0].label1.set_visible(False) \n",
    "    plt.xticks(fontsize=22) \n",
    "    plt.yticks(fontsize=22) \n",
    "    plt.xlabel(\"mean radius\", fontsize=22)  \n",
    "    plt.hist(train_X[\"mean radius\"].iloc[ind_x_eq_val(train_y, i)],\n",
    "             60,density=True, stacked=True,edgecolor = \"none\", color=\"skyblue\")\n",
    "    plt.plot(np.linspace(0, 30, n_plot),gaussian(np.linspace(0, 30, n_plot), \n",
    "                     mean_R_C[i], std_R_C[i]), color=\"darkred\", lw=2)\n",
    "    plt.savefig(\"plot_{}.pdf\".format(i), bbox_inches='tight')"
   ]
  },
  {
   "cell_type": "markdown",
   "id": "injured-germany",
   "metadata": {},
   "source": [
    "## **MAP decision** compute posterior $p_{\\tilde{c} \\mid \\tilde{t},\\tilde{r}}$ and derive MAP for each test sample. What's the error rate?"
   ]
  },
  {
   "cell_type": "code",
   "execution_count": null,
   "id": "enhanced-fighter",
   "metadata": {},
   "outputs": [],
   "source": [
    "MAP_estimate_R_T = #TODO\n",
    "error_rate_R_T = np.sum(np.abs(MAP_estimate_R_T - test_y)) / len(test_y)\n",
    "print(\"Probability of error using radius and texture \" + str(error_rate_R_T))"
   ]
  },
  {
   "cell_type": "code",
   "execution_count": null,
   "id": "polyphonic-sullivan",
   "metadata": {},
   "outputs": [],
   "source": [
    "bandwidth = 1.0\n",
    "## Estimate conditional pdf of R given C\n",
    "P_R_C0 = # TODO\n",
    "P_R_C1 = # TODO\n",
    "\n",
    "\n",
    "## Estimate conditional pdf of T given C\n",
    "P_T_C0 = # TODO\n",
    "P_T_C1 = # TODO"
   ]
  },
  {
   "cell_type": "code",
   "execution_count": null,
   "id": "referenced-instrument",
   "metadata": {},
   "outputs": [],
   "source": [
    "MAP_estimate_R_T = # TODO\n",
    "error_rate_R_T = np.sum(np.abs(MAP_estimate_R_T - test_y)) / len(test_y)\n",
    "print(\"Probability of error using radius and texture \" + str(error_rate_R_T))"
   ]
  },
  {
   "cell_type": "code",
   "execution_count": null,
   "id": "cultural-contents",
   "metadata": {},
   "outputs": [],
   "source": []
  },
  {
   "cell_type": "code",
   "execution_count": null,
   "id": "infectious-grass",
   "metadata": {},
   "outputs": [],
   "source": []
  }
 ],
 "metadata": {
  "kernelspec": {
   "display_name": "Python 3.8.6 64-bit",
   "language": "python",
   "name": "python3"
  },
  "language_info": {
   "codemirror_mode": {
    "name": "ipython",
    "version": 3
   },
   "file_extension": ".py",
   "mimetype": "text/x-python",
   "name": "python",
   "nbconvert_exporter": "python",
   "pygments_lexer": "ipython3",
   "version": "3.8.6"
  },
  "vscode": {
   "interpreter": {
    "hash": "aee8b7b246df8f9039afb4144a1f6fd8d2ca17a180786b69acc140d282b71a49"
   }
  }
 },
 "nbformat": 4,
 "nbformat_minor": 5
}
