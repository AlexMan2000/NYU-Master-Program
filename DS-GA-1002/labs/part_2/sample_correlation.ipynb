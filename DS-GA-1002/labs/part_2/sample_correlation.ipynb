{
 "cells": [
  {
   "cell_type": "code",
   "execution_count": 22,
   "id": "neural-baker",
   "metadata": {},
   "outputs": [
    {
     "name": "stdout",
     "output_type": "stream",
     "text": [
      "Population Mean of x: -0.10384651739409384\n",
      "Population Mean of y: 11.919935310514491\n",
      "Population Variance of x: 0.8165221946938584\n",
      "Population Variance of y: 885160.343854991\n",
      "Population Covariance between x and y: -35.32043144106295\n",
      "Population Correlation between x and y: -0.041546173301483455\n",
      "Population Correlation between standardized x and y: -0.041546173301483406\n"
     ]
    },
    {
     "data": {
      "image/png": "[encoded data removed]",
      "text/plain": [
       "<Figure size 432x288 with 1 Axes>"
      ]
     },
     "metadata": {
      "needs_background": "light"
     },
     "output_type": "display_data"
    }
   ],
   "source": [
    "import numpy as np\n",
    "import matplotlib.pyplot as plt\n",
    "\n",
    "# Generate random data for two variables\n",
    "np.random.seed(42)\n",
    "x = np.random.randn(100) \n",
    "y = 100 * x + np.random.randn(100) * 1000  # Linear relationship with added noise\n",
    "\n",
    "# Compute population mean\n",
    "mean_x = np.mean(x)\n",
    "mean_y = np.mean(y)\n",
    "\n",
    "# Compute population variance\n",
    "var_x = np.var(x)\n",
    "var_y = np.var(y)\n",
    "\n",
    "# Compute population covariance\n",
    "cov_xy = np.cov(x, y, bias=True)[0, 1]  # bias=True to get population covariance\n",
    "\n",
    "# Compute population correlation\n",
    "corr_xy = np.corrcoef(x, y)[0, 1]\n",
    "corr_std_xy = np.corrcoef((x-mean_x)/np.sqrt(var_x), (y-mean_y)/np.sqrt(var_y))[0, 1]\n",
    "\n",
    "y_reg = corr_xy * ((np.linspace(x.min(), x.max(), 100) - mean_x) / np.sqrt(var_x)) * np.sqrt(var_y) + mean_y\n",
    "\n",
    "# Print results\n",
    "print(\"Population Mean of x:\", mean_x)\n",
    "print(\"Population Mean of y:\", mean_y)\n",
    "print(\"Population Variance of x:\", var_x)\n",
    "print(\"Population Variance of y:\", var_y)\n",
    "print(\"Population Covariance between x and y:\", cov_xy)\n",
    "print(\"Population Correlation between x and y:\", corr_xy)\n",
    "print(\"Population Correlation between standardized x and y:\", corr_std_xy)\n",
    "\n",
    "\n",
    "# Create a scatter plot\n",
    "plt.scatter(x, y, label='Data Points')\n",
    "plt.plot(np.linspace(x.min(), x.max(), 100), y_reg, label='OLS', c='red')\n",
    "\n",
    "plt.title('Scatter Plot of x and y')\n",
    "plt.xlabel('x')\n",
    "plt.ylabel('y')\n",
    "plt.legend()\n",
    "plt.show()"
   ]
  },
  {
   "cell_type": "code",
   "execution_count": null,
   "id": "bored-lighting",
   "metadata": {},
   "outputs": [],
   "source": []
  },
  {
   "cell_type": "code",
   "execution_count": null,
   "id": "decreased-latvia",
   "metadata": {},
   "outputs": [],
   "source": []
  }
 ],
 "metadata": {
  "kernelspec": {
   "display_name": "Python 3",
   "language": "python",
   "name": "python3"
  },
  "language_info": {
   "codemirror_mode": {
    "name": "ipython",
    "version": 3
   },
   "file_extension": ".py",
   "mimetype": "text/x-python",
   "name": "python",
   "nbconvert_exporter": "python",
   "pygments_lexer": "ipython3",
   "version": "3.7.6"
  }
 },
 "nbformat": 4,
 "nbformat_minor": 5
}
