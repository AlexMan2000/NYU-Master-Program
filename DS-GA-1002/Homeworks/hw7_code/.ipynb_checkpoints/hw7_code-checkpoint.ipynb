{
 "cells": [
  {
   "cell_type": "code",
   "execution_count": 2,
   "id": "2f6ac779",
   "metadata": {},
   "outputs": [],
   "source": [
    "import numpy as np\n",
    "import matplotlib.pyplot as plt\n",
    "%matplotlib inline"
   ]
  },
  {
   "cell_type": "code",
   "execution_count": 3,
   "id": "6b7576a3",
   "metadata": {},
   "outputs": [],
   "source": [
    "A = np.array([[0.7,0,0],[0.2,1,0],[0.1,0,1]])"
   ]
  },
  {
   "cell_type": "code",
   "execution_count": 7,
   "id": "beb7edf6",
   "metadata": {},
   "outputs": [
    {
     "data": {
      "text/plain": [
       "array([1. , 1. , 0.7])"
      ]
     },
     "execution_count": 7,
     "metadata": {},
     "output_type": "execute_result"
    }
   ],
   "source": [
    "eigenvalues, eigenvectors = np.linalg.eig(A)\n",
    "eigenvalues"
   ]
  },
  {
   "cell_type": "code",
   "execution_count": 8,
   "id": "10279f3b",
   "metadata": {},
   "outputs": [
    {
     "data": {
      "text/plain": [
       "array([[ 0.        ,  0.        ,  0.80178373],\n",
       "       [ 0.        ,  1.        , -0.53452248],\n",
       "       [ 1.        ,  0.        , -0.26726124]])"
      ]
     },
     "execution_count": 8,
     "metadata": {},
     "output_type": "execute_result"
    }
   ],
   "source": [
    "eigenvectors"
   ]
  },
  {
   "cell_type": "code",
   "execution_count": 9,
   "id": "6005fdc6",
   "metadata": {},
   "outputs": [
    {
     "data": {
      "text/plain": [
       "array([[0.33333333, 0.        , 1.        ],\n",
       "       [0.66666667, 1.        , 0.        ],\n",
       "       [1.24721913, 0.        , 0.        ]])"
      ]
     },
     "execution_count": 9,
     "metadata": {},
     "output_type": "execute_result"
    }
   ],
   "source": [
    "np.linalg.inv(eigenvectors)"
   ]
  },
  {
   "cell_type": "code",
   "execution_count": null,
   "id": "1ff774b7",
   "metadata": {},
   "outputs": [],
   "source": [
    "# Simulate the markov chain\n",
    "x0 = np.array([0.9,0.1,0])\n",
    "T = np.array([[0.7,0,0],[0.2,1,0],[0.1,0,1]])\n",
    "state_name = [\"In Stock\", \"Sold Locally\", \"Exported\"]\n",
    "\n",
    "\n",
    "def one_step(state, transition_matrix):\n",
    "    return np.random.choice(3, 1, p = transition_matrix[:, state])\n",
    "\n",
    "\n",
    "def simulate_discrete_markov_chain(start, transition_matrix, step):\n",
    "    trace = [start]\n",
    "    for i in range(step):\n",
    "        trace.append(one_step(start, transition_matrix))\n",
    "        \n",
    "    return trace\n",
    "\n",
    "def plot_trace(state_name, start_prob, transition_matrix, step):\n",
    "    trace = simulate_discrete_markov_chain(np.random.choice(len(state_name), 1, p = start_prob), transition_matrix, 200)\n",
    "    plt.plot(np.arange(1, 201), trace)\n",
    "    plt.yticks([0,1,2], state_name)\n",
    "    \n",
    "    \n",
    "    \n",
    "plot_trace(state_name, x0, T, 200)"
   ]
  }
 ],
 "metadata": {
  "kernelspec": {
   "display_name": "Python 3 (ipykernel)",
   "language": "python",
   "name": "python3"
  },
  "language_info": {
   "codemirror_mode": {
    "name": "ipython",
    "version": 3
   },
   "file_extension": ".py",
   "mimetype": "text/x-python",
   "name": "python",
   "nbconvert_exporter": "python",
   "pygments_lexer": "ipython3",
   "version": "3.10.11"
  }
 },
 "nbformat": 4,
 "nbformat_minor": 5
}
