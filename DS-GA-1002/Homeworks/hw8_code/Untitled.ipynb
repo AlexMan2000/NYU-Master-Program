{
 "cells": [
  {
   "cell_type": "code",
   "execution_count": 2,
   "id": "a10eecdf",
   "metadata": {},
   "outputs": [],
   "source": [
    "import numpy as np\n",
    "import matplotlib.pyplot as plt\n",
    "%matplotlib inline\n",
    "import pandas as pd"
   ]
  },
  {
   "cell_type": "code",
   "execution_count": 13,
   "id": "e5ee3217",
   "metadata": {},
   "outputs": [
    {
     "name": "stdout",
     "output_type": "stream",
     "text": [
      "-3.0 2.0 0.5\n",
      "-3.0 3.0 0.5\n",
      "-2.0 0.0 0.5\n",
      "-2.0 1.0 0.5\n",
      "-2.0 2.0 0.5\n",
      "-2.0 3.0 0.5\n",
      "-1.0 0.0 0.5\n",
      "-1.0 1.0 0.5\n",
      "-1.0 2.0 0.5\n",
      "0.0 -2.0 0.5\n",
      "0.0 -1.0 0.5\n",
      "0.0 1.0 0.5\n",
      "0.0 2.0 0.5\n",
      "1.0 -2.0 0.5\n",
      "1.0 -1.0 0.5\n",
      "1.0 0.0 0.5\n",
      "2.0 -3.0 0.5\n",
      "2.0 -2.0 0.5\n",
      "2.0 -1.0 0.5\n",
      "2.0 0.0 0.5\n",
      "3.0 -3.0 0.5\n",
      "3.0 -2.0 0.5\n",
      "22\n"
     ]
    }
   ],
   "source": [
    "A = 5\n",
    "x = np.linspace(-20,20,41)\n",
    "y = np.linspace(-20,20,41)\n",
    "theta = 0.5\n",
    "f = lambda x: (A - x**2) ** 2\n",
    "\n",
    "count = 0\n",
    "\n",
    "for xi in x:\n",
    "    for yi in y:\n",
    "        if theta * f(xi) + (1-theta) * f(yi) < f(theta * xi + (1-theta) * yi):\n",
    "            count += 1\n",
    "            print(xi, yi,theta)\n",
    "print(count)"
   ]
  },
  {
   "cell_type": "code",
   "execution_count": 5,
   "id": "24f1c491",
   "metadata": {},
   "outputs": [
    {
     "data": {
      "text/plain": [
       "0.4547286636075183"
      ]
     },
     "execution_count": 5,
     "metadata": {},
     "output_type": "execute_result"
    }
   ],
   "source": []
  },
  {
   "cell_type": "code",
   "execution_count": null,
   "id": "53e1e11f",
   "metadata": {},
   "outputs": [],
   "source": []
  }
 ],
 "metadata": {
  "kernelspec": {
   "display_name": "Python 3 (ipykernel)",
   "language": "python",
   "name": "python3"
  },
  "language_info": {
   "codemirror_mode": {
    "name": "ipython",
    "version": 3
   },
   "file_extension": ".py",
   "mimetype": "text/x-python",
   "name": "python",
   "nbconvert_exporter": "python",
   "pygments_lexer": "ipython3",
   "version": "3.10.11"
  }
 },
 "nbformat": 4,
 "nbformat_minor": 5
}
