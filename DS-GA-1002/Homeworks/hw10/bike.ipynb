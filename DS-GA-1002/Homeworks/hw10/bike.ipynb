{
 "cells": [
  {
   "cell_type": "code",
   "execution_count": null,
   "metadata": {},
   "outputs": [],
   "source": [
    "import pandas as pd\n",
    "import numpy as np\n",
    "import matplotlib.pyplot as plt\n",
    "import seaborn as sns\n",
    "import random"
   ]
  },
  {
   "cell_type": "markdown",
   "metadata": {},
   "source": [
    "#### The dataset records the rental data of shared bikes. Note that the temperature is noramlized to $[0, 1]$."
   ]
  },
  {
   "cell_type": "code",
   "execution_count": null,
   "metadata": {},
   "outputs": [],
   "source": [
    "df = pd.read_csv('day.csv')"
   ]
  },
  {
   "cell_type": "code",
   "execution_count": null,
   "metadata": {},
   "outputs": [],
   "source": [
    "df.plot.scatter(x='temp', y='cnt')"
   ]
  },
  {
   "cell_type": "code",
   "execution_count": null,
   "metadata": {},
   "outputs": [],
   "source": [
    "cnt = np.array(df['cnt'])\n",
    "temp = np.array(df['temp'])"
   ]
  },
  {
   "cell_type": "markdown",
   "metadata": {},
   "source": [
    "### Question (a) \n",
    "#### Estimate conditional mean of numbers of rides given temperature, and plot the conditional mean together with the scatter plot.\n",
    "\n",
    "\n",
    "*Note:* Both ride counts and temperature can be modeled with continous random variables. To simplify the conditional expectation, we discretize tempertures by bins with equal width. We then aggregate the ride counts data within each bin. "
   ]
  },
  {
   "cell_type": "code",
   "execution_count": null,
   "metadata": {},
   "outputs": [],
   "source": [
    "max_val = np.max(temp)\n",
    "width_bin = 0.1\n",
    "fig = plt.figure(figsize = (9,6)) \n",
    "plt.scatter(temp,cnt, s=5, c=\"dodgerblue\", marker='o', edgecolor=\"skyblue\")\n",
    "\n",
    "# TODO: create bins from 0 to the maximum to discretize continous temperatures\n",
    "grid = ### INSERT CODE HERE ###\n",
    "\n",
    "\n",
    "# TODO: Compute the conditional expection of ride count given temperture\n",
    "cond_average_cnt = np.zeros(len(grid))\n",
    "\n",
    "\n",
    "\n",
    "### INSERT CODE HERE ###\n",
    "\n",
    "\n",
    "plt.plot(grid[1:-1],cond_average_cnt[1:-1],'-o',lw=2,color='crimson', label=\"Sample conditional mean \")\n",
    "plt.ylabel(\"Ride Counts\", fontsize=21,labelpad=10)\n",
    "plt.xlabel(\"Water Temperature\", fontsize=21,labelpad=10)\n",
    "\n",
    "plt.legend(fontsize=18)\n",
    "# plt.xlim(-5,30)\n",
    "# plt.ylim(-12,23)\n",
    "plt.xticks(fontsize=18) \n",
    "plt.yticks(fontsize=18)\n",
    "plt.gcf().subplots_adjust(bottom=0.15)\n",
    "plt.gcf().subplots_adjust(left=0.15)\n",
    "plt.savefig('conditional_expectation.pdf')"
   ]
  },
  {
   "cell_type": "markdown",
   "metadata": {},
   "source": [
    "### Question (b)\n",
    "\n",
    "#### Estimate conditional standard deviation, and plot the confidence interval within +/- one conditional standard deviation."
   ]
  },
  {
   "cell_type": "code",
   "execution_count": null,
   "metadata": {},
   "outputs": [],
   "source": [
    "# TODO: Compute the conditional standard deviation of rides given temperture\n",
    "cond_std_cnt = np.zeros(len(grid))\n",
    "\n",
    "\n",
    "### INSERT CODE HERE ###\n",
    "\n",
    "\n",
    "\n",
    "fig = plt.figure(figsize = (9,6)) \n",
    "plt.scatter(temp, cnt, s=10, c=\"dodgerblue\", marker='o', edgecolor=\"skyblue\")\n",
    "\n",
    "\n",
    "plt.plot(grid[1:-1],cond_average_cnt[1:-1],'-o',lw=2,color='crimson', label=\"Sample conditional mean \")\n",
    "plt.fill_between(grid[1:-1], cond_average_cnt[1:-1]-cond_std_cnt[1:-1], \n",
    "                cond_average_cnt[1:-1]+cond_std_cnt[1:-1], color='crimson', alpha=0.2, label=\"+/- std\")\n",
    "\n",
    "plt.ylabel(\"Ride Counts\", fontsize=21,labelpad=10)\n",
    "plt.xlabel(\"Temperature\", fontsize=21,labelpad=10)\n",
    "\n",
    "plt.legend(fontsize=18)\n",
    "plt.xticks(fontsize=18) \n",
    "plt.yticks(fontsize=18)\n",
    "plt.gcf().subplots_adjust(bottom=0.15)\n",
    "plt.gcf().subplots_adjust(left=0.15)\n",
    "plt.savefig('conditional_expectation_w_std.pdf')"
   ]
  },
  {
   "cell_type": "code",
   "execution_count": null,
   "metadata": {},
   "outputs": [],
   "source": []
  }
 ],
 "metadata": {
  "kernelspec": {
   "display_name": "Python 3",
   "language": "python",
   "name": "python3"
  },
  "language_info": {
   "codemirror_mode": {
    "name": "ipython",
    "version": 3
   },
   "file_extension": ".py",
   "mimetype": "text/x-python",
   "name": "python",
   "nbconvert_exporter": "python",
   "pygments_lexer": "ipython3",
   "version": "3.7.6"
  }
 },
 "nbformat": 4,
 "nbformat_minor": 4
}
