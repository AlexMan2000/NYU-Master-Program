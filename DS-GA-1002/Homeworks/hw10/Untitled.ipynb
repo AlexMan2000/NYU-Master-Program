{
 "cells": [
  {
   "cell_type": "code",
   "execution_count": 2,
   "id": "7f7c1d12",
   "metadata": {},
   "outputs": [],
   "source": [
    "import numpy as np\n",
    "import matplotlib.pyplot as plt\n",
    "%matplotlib inline"
   ]
  },
  {
   "cell_type": "code",
   "execution_count": 4,
   "id": "54beab48",
   "metadata": {},
   "outputs": [],
   "source": [
    "supplement = np.array([0.5,-4.6,-7.5,1.1, -3.4, -1.4, 3.2, -1.9, -3.6, 2.4, 1.2, 4.2, -2.5, -3.5, 4.7])\n",
    "no_supplement = np.array([1.6, -6.7, 2.3, -4.5, 3.4, -0.6, 2.3, 1.5, 1.7,2.6, 0.5, 1.2, -3.6, 2.1, -1.2, 0.4])"
   ]
  },
  {
   "cell_type": "code",
   "execution_count": 6,
   "id": "b7b165a4",
   "metadata": {},
   "outputs": [
    {
     "data": {
      "text/plain": [
       "-0.9275000000000001"
      ]
     },
     "execution_count": 6,
     "metadata": {},
     "output_type": "execute_result"
    }
   ],
   "source": [
    "supplement.mean() - no_supplement.mean()"
   ]
  },
  {
   "cell_type": "code",
   "execution_count": 8,
   "id": "999d43c6",
   "metadata": {},
   "outputs": [
    {
     "data": {
      "text/plain": [
       "31"
      ]
     },
     "execution_count": 8,
     "metadata": {},
     "output_type": "execute_result"
    }
   ],
   "source": [
    "len(supplement)+len(no_supplement)"
   ]
  },
  {
   "cell_type": "code",
   "execution_count": null,
   "id": "d26295d5",
   "metadata": {},
   "outputs": [],
   "source": []
  }
 ],
 "metadata": {
  "kernelspec": {
   "display_name": "Python 3 (ipykernel)",
   "language": "python",
   "name": "python3"
  },
  "language_info": {
   "codemirror_mode": {
    "name": "ipython",
    "version": 3
   },
   "file_extension": ".py",
   "mimetype": "text/x-python",
   "name": "python",
   "nbconvert_exporter": "python",
   "pygments_lexer": "ipython3",
   "version": "3.10.11"
  }
 },
 "nbformat": 4,
 "nbformat_minor": 5
}
