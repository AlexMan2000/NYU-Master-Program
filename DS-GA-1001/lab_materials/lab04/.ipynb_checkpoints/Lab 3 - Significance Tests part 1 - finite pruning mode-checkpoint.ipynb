{
 "cells": [
  {
   "cell_type": "code",
   "execution_count": 1,
   "id": "24770d55",
   "metadata": {},
   "outputs": [],
   "source": [
    "#!/usr/bin/env python3\n",
    "# -*- coding: utf-8 -*-\n",
    "\n",
    "# ### Lab04\n",
    "# \n",
    "# ### 2021-09-23\n",
    "\n",
    "# ### Statistical significance tests on real data\n",
    "                    \n",
    "# Paraphrased logic, in english: We acknowledge any outcome could be due to\n",
    "# chance. Our only question is how likely that is by chance. If it is\n",
    "# implausibly unlikely, we reject the assumption that it was just due to\n",
    "# chance. And either the null hypothesis is true or not, so if we reject it\n",
    "# is plausible, it probably means that our treatment did have an effect.                  \n",
    "                    \n",
    "#%% Before we do the stats, let's talk about the psychology of movie ratings:\n",
    "    \n",
    "# Hypothesis 1: First is best. Because that's usually true for trilogies\n",
    "# (with the exception of Star Wars). That's probably true just because of\n",
    "# regression to the mean. Also expectations. If the first one is great, it's\n",
    "# hard to beat expectations. \n",
    "\n",
    "# Hypothesis 2: Ratings for later ones will be even better. Production\n",
    "# qualities improve over time. Also, only fans might watch all of them.\n",
    "# People who didn't like the 1st one might drop out and never watch the\n",
    "# other ones, so the RATINGS might appear higher. \n",
    "\n",
    "# Make sure that you actually have 2 plausible outcomes before doing the\n",
    "# study. If the outcome is a foregone conclusion, it's not science. Science\n",
    "# is about being open to any possible outcome.\n",
    "\n",
    "# Null hypothesis: There is no difference. \n",
    "\n",
    "# Let's implement the canonical data analysis cascade\n",
    "\n",
    "#%% 0 Init (Birth)\n",
    "\n",
    "# a. Predispositions:\n",
    "startColumn = 177 # This is the column that contains data from matrix I\n",
    "# matrix II is column 178 and matrix III is column 179\n",
    "numMovies = 3 # Data from how many movies (it's a trilogy)\n",
    "pruningMode = 2 # This flag determines how we will remove nans. It's important to be mindful of this \n",
    "# 1 = element-wise, 2 = row-wise, 3 = imputation\n",
    "\n",
    "# b. Load/import - libraries/packages:\n",
    "import numpy as np\n",
    "from scipy import stats\n",
    "import matplotlib.pyplot as plt\n"
   ]
  },
  {
   "cell_type": "markdown",
   "id": "88bf510d",
   "metadata": {},
   "source": [
    "### The advantage of this is that you'll be free of the limitations of cannedpackages like Excel or SPSS. Specifically, we will test the hypothesis that Matrix I was the best ofthe Matrix movies (it's a trilogy). Since we are doing this here, let me walk you through the null hypothesistesting framework at least once (just once). It is a bit arcane. It madesense to Fisher.         \n",
    "\n",
    "### 1) Start with a hypothesis (something about the world you would wish toknow, whether it is true or not. The participants are just the unit of analysis that gives you the data). \n",
    "\n",
    "### 2) State a null hypothesis and assume that it is 100% true (that there is no difference in the conditions of 1), e.g. here Matrix I rated the sameas Matrix II and III). This is essential to NHST. \n",
    "\n",
    "### 3) This is - at the face of it - an odd thing to do, because naively you would think that scientists look for probability (Hypothesis | Data) But that is unknowable. Which is why we do the study in the first place. What is calculable: Probability (Data | NULL hypothesis)You can assess the probability of the data given the null hypothesis\n",
    "\n",
    "### 4) To get this probability, we represent the sample by a parameter like a sample mean, then transform the sample mean into a test statistic with a known distribution.\n",
    "\n",
    "### 5) The area under the curve of the distribution of the test statistic in the tail (or tails, if it is a 2-tailed test) is the p value, in otherwords the probability of this result (or a more extreme one) given chancealone.\n",
    "\n",
    "### 6) We compare the p value to a significance level alpha (typically 5% or 1%)\n",
    "\n",
    "### 7) Decision point (Choice)\n",
    "### a) If it is smaller than that, we decide to reject our assumption that the null hypothesis is true.\n",
    "### b) If it is not smaller than that, we don't do anything because we alreadyassumed that the null hypothesis is true.                    "
   ]
  },
  {
   "cell_type": "markdown",
   "id": "9fe31812",
   "metadata": {},
   "source": [
    "### In this script, we will analyze real data from a published article (Wallisch & Whritner 2017) .A subset of it. The point is specifically to illustrate hypothesis testing in Python and to implement the Canonical Data Analysis cascade. "
   ]
  },
  {
   "cell_type": "markdown",
   "id": "923dbdc7",
   "metadata": {},
   "source": [
    "## 1. Loader / Transducer: Taking the inputs from their native form and putting it into something Python can use: a matrix"
   ]
  },
  {
   "cell_type": "code",
   "execution_count": 45,
   "id": "f1ffd83f",
   "metadata": {},
   "outputs": [
    {
     "data": {
      "text/plain": [
       "array([3.5, 0.5, 3.5, ..., 4.5, 2.5, nan])"
      ]
     },
     "execution_count": 45,
     "metadata": {},
     "output_type": "execute_result"
    }
   ],
   "source": [
    "import pandas as pd\n",
    "data_df = pd.read_csv('movieRatingsDeidentified.csv')\n",
    "\n",
    "M1 = pd.to_numeric(data_df['The Matrix (1999)'],errors='coerce').values\n",
    "M2 = pd.to_numeric(data_df['The Matrix Reloaded (2003)'],errors='coerce').values\n",
    "M3 = pd.to_numeric(data_df['The Matrix Revolutions (2003)'],errors='coerce').values\n",
    "M1"
   ]
  },
  {
   "cell_type": "markdown",
   "id": "9f948f61",
   "metadata": {},
   "source": [
    "## 2. \"Thalamus\" stage: We need to get rid of \"bad\" data. "
   ]
  },
  {
   "cell_type": "markdown",
   "id": "02df8538",
   "metadata": {},
   "source": [
    "### This is not data we don't like the results of.  It's data that if it entered the analysis stream would ruin our analysis. By visual inspection, the matrix of movie ratings contains numbers from 1 to 4, representing \"star ratings\", and \"nans\".  What could the nans be? What do they mean? It could be people not doing the task. There are many ways to detect this. People who press buttons not in the instructions, people responding too fast, people responding too slow. "
   ]
  },
  {
   "cell_type": "markdown",
   "id": "68848e5d",
   "metadata": {},
   "source": [
    "### Why might \"too slow\" be a problem? In one study, we were interested in reaction time as a dependent variable. But once, a participant went to the restroom in the middle of the experiment and didn't come back for 30 minutes. What would happen to the mean reaction time for the condition that the trial was in, in which this participant used the restroom. If we included this, it would be meaningless. The mean is sensitive to outliers. The rest of the reactions are in milli-seconds. This is 4 orders of magnitude higher. Another example from neuroscience: Voltages of electrodes are usually in mV or microV (depending on eeg vs. microelectrode). What if for one trial there was voltage surge that hit the building - all measurements from that trial are invalid. You need to exclude that BEFORE looking at the results. All results will be thrown off by that."
   ]
  },
  {
   "cell_type": "markdown",
   "id": "eb872c4e",
   "metadata": {},
   "source": [
    "### Given that these are movie ratings, it is not implausible that most of these nans represent missing data due to the participant did not watch the movie in question. The reason we have to deal with this is that once this data is in the analysis stream, it will make the rest of the interpretation hard. If there is a single nan in the data, we can't take the mean.  So \"filtering\" or removing of ill-formed data will mean \"removal of missing data\" in this case.\n",
    "\n",
    "## But here is the catch: Remove them how?\n",
    "\n",
    "### There are at least 3 ways to handle this, and depending on how we do this, it will set up the entire rest of the analysis (and what it means). \n",
    "\n",
    "## 1. Element-wise removal of nans\n",
    "### We remove nans from each data matrix where we find it. But we are starting with an equal n for each movie. 3204 rows in all 3 matrices. Once we start removing stuff element-wise, due to the fact that there are an unequal number of nans for each movie, this will result in unequal n, which will make some analyses impossible. Some analyses presume equal n. It could also introduce bias. If we remove people who have not seen the latter ones, but that was a choice (their choice), we would inflate the ratings artificially. \n",
    "\n",
    "## 2. Row-wise (participant-wise) removal of nans\n",
    "### If a participant has not seen even one of the movies, we remove all of the data from this participant. Good: We keep n the same. Bad: We will lose a lot of data. Probably most of the data. This usually looks suspicious, also: Loss of statistical power. \n",
    "\n",
    "## 3. Imputation \n",
    "### We replace the missing data with our guess of what the rating would have been, if there had been a rating. This is more commonly done in engineering than in science.  Sometimes, people replace the missing value with the mean. But which mean? The participant-wise mean or the movie-wise mean - or a blend of the two? We could do the average of the movie, but is that fair? Those people chose not to watch it - they were not randomly assigned to watch the movies. This suggests that their rating would have been lower than that average. But how much lower? 0? Probably too extreme. In science, data only comes from measurement"
   ]
  },
  {
   "cell_type": "markdown",
   "id": "20691112",
   "metadata": {},
   "source": [
    "### In real life, pick the option that makes the most sense for your theoretical approach, and just do that. For teaching purposes, we'll do all of them, just so you see how that plays out in real life."
   ]
  },
  {
   "cell_type": "code",
   "execution_count": 42,
   "id": "06ee8a88",
   "metadata": {},
   "outputs": [
    {
     "data": {
      "text/plain": [
       "array([3.5, 0.5, 3.5, ..., 4. , 4.5, 2.5])"
      ]
     },
     "execution_count": 42,
     "metadata": {},
     "output_type": "execute_result"
    }
   ],
   "source": [
    "# 1) Element-wise:\n",
    "M1 = M1[np.isfinite(M1)] # only keep the finite elements (not infinity or NaN)\n",
    "M2 = M2[np.isfinite(M2)] # only keep the finite elements (not infinity or NaN)\n",
    "M3 = M3[np.isfinite(M3)] # only keep the finite elements (not infinity or NaN)\n",
    "# Outcome: Exactly as we suspected, n is unequal now, and we have concerns\n",
    "# about the psychological interpretation of this, as we only have the\n",
    "# ratings of die-hard fans who watched all 3 for the third one.\n",
    "M1"
   ]
  },
  {
   "cell_type": "markdown",
   "id": "159b2225",
   "metadata": {},
   "source": [
    "### I took the records that came in over time by participant and broke them up, so they are now ordered by movie. I already abstracted over time. There is still something we can do that will make our life easier, which is to put this into a format we can loop over (to do all these tests). Why is the current format not great? M1 vs. M3, etc. is not great for that? Wouldn't it be better to have a matrix \"DATA\" that contains all 3 movies? It would be. Why can't it be a matrix now, given we removed missing data element-wise? Because n is unequal. So let's make it an array of arrays"
   ]
  },
  {
   "cell_type": "code",
   "execution_count": 46,
   "id": "3665f7be",
   "metadata": {},
   "outputs": [],
   "source": [
    "#%% 3 Reformatting - V1: Format data into a representation to work with\n",
    "combinedData = np.transpose(np.array([M1,M2,M3])) # array of arrays\n",
    "    \n",
    "#%% 4a) Extrastriate cortex: Doing the actual specialized analyses\n",
    "# Descriptive statistics - we are looking for very special numbers that\n",
    "# capture the essence of the entire dataset - the typical number (central\n",
    "# tendency) and the dispersion. Typically mean and SD. \n",
    "\n",
    "# Initialize container to store descriptives:\n",
    "descriptivesContainer = np.empty([numMovies,4])\n",
    "descriptivesContainer[:] = np.NaN\n",
    "\n",
    "# 1. Element-wise:\n",
    "for ii in range(numMovies):\n",
    "    descriptivesContainer[ii,0] = np.mean(combinedData[ii]) # mu\n",
    "    descriptivesContainer[ii,1] = np.std(combinedData[ii]) # sigma\n",
    "    descriptivesContainer[ii,2] = len(combinedData[ii]) # n\n",
    "    descriptivesContainer[ii,3] = descriptivesContainer[ii,1]/np.sqrt(descriptivesContainer[ii,2]) # sem"
   ]
  },
  {
   "cell_type": "code",
   "execution_count": 47,
   "id": "7bbfaedc",
   "metadata": {},
   "outputs": [
    {
     "data": {
      "text/plain": [
       "array([nan, nan,  3., nan])"
      ]
     },
     "execution_count": 47,
     "metadata": {},
     "output_type": "execute_result"
    }
   ],
   "source": [
    "#%% 4b) Extrastriate cortex part II: Inferential statistics\n",
    "\n",
    "# check means\n",
    "descriptivesContainer[0]"
   ]
  },
  {
   "cell_type": "code",
   "execution_count": 48,
   "id": "bcbd30a9",
   "metadata": {},
   "outputs": [
    {
     "data": {
      "text/plain": [
       "array([[3.5, 2.5, nan],\n",
       "       [0.5, nan, nan],\n",
       "       [3.5, 0.5, 0.5],\n",
       "       ...,\n",
       "       [4.5, 4. , 3. ],\n",
       "       [2.5, nan, nan],\n",
       "       [nan, nan, nan]])"
      ]
     },
     "execution_count": 48,
     "metadata": {},
     "output_type": "execute_result"
    }
   ],
   "source": [
    "combinedData"
   ]
  },
  {
   "cell_type": "markdown",
   "id": "bcb56edd",
   "metadata": {},
   "source": [
    "### So far, so good. The mean rating of matrix 1 is higher than that of matrix 2, and the mean of matrix 2 is higher than matrix 3.  The question here is whether the differences we saw in the descriptives - usually the means - are \"statistically significant\".  Whether it is plausibly consistent with chance (that the numbers came out of a RGN)"
   ]
  },
  {
   "cell_type": "markdown",
   "id": "dcfc3d5a",
   "metadata": {},
   "source": [
    "### 1) Assert a null hypothesis: We assume that the data came out of a RNG - strictly by chance.\n",
    "\n",
    "### 2) We compute the probability that this is the case - assuming chance. \n",
    "\n",
    "### 3) If this probability is implausibly low, we DECIDE to concede that we were wrong in 1) - that it is probably not solely due to chance. "
   ]
  },
  {
   "cell_type": "markdown",
   "id": "a328a8fe",
   "metadata": {},
   "source": [
    "### It's a choice, it's a decision. You have not falsified the null hypothesis or \"proven\" to be wrong. We made a choice that it is implausible. But we could be wrong (type I and type II errors). "
   ]
  },
  {
   "cell_type": "markdown",
   "id": "4ce423d9",
   "metadata": {},
   "source": [
    "### In science, we consider things that happen only 1 in 20 times to be \"too implausible\" to be consistent with chance. This corresponds to getting heads (or tails) 5 times in a row (if you flip coins). Is that terribly implausible? There is now a movement afoot to lower this to 1 in 200. To avoid false positives. So results won't reproduce. This gave p values a bad reputation. But there is nothing wrong with them, if they are understood and used properly. Properly = conservative enough criterion of implausibility and high enough power. "
   ]
  },
  {
   "cell_type": "markdown",
   "id": "d776819e",
   "metadata": {},
   "source": [
    "### So our question now is: Assuming that there is no difference in reality, howlikely is it to get this mean difference just by chance (sampling error). Analogy: We are doing a crime scene investigation. Null hypothesis is thepresumption of innocence. We only reject that presumption if forced by thedata (in other words, if the evidence suggests that the fingerprints, DNA,etc.) of the suspect didn't just get there by chance. It is always possible. The unreasonable doubt (that your evidence got there just bychance always persists).  We need to do a t-test because we want to assess how likely this observedmean difference is and we do not know the population parameters. We have to do an independent samples t-test because we eliminated missing data in a way to yield unequal n. We have no choice (if we want to do a t-test)\n"
   ]
  },
  {
   "cell_type": "code",
   "execution_count": 49,
   "id": "c9f47be5",
   "metadata": {},
   "outputs": [],
   "source": [
    "# 1. Element-wise:\n",
    "t1,p1 = stats.ttest_ind(combinedData[0],combinedData[1])"
   ]
  },
  {
   "cell_type": "code",
   "execution_count": 50,
   "id": "2128ab00",
   "metadata": {},
   "outputs": [
    {
     "data": {
      "text/plain": [
       "nan"
      ]
     },
     "execution_count": 50,
     "metadata": {},
     "output_type": "execute_result"
    }
   ],
   "source": [
    "t1"
   ]
  },
  {
   "cell_type": "code",
   "execution_count": 51,
   "id": "062cfcc0",
   "metadata": {},
   "outputs": [
    {
     "data": {
      "text/plain": [
       "nan"
      ]
     },
     "execution_count": 51,
     "metadata": {},
     "output_type": "execute_result"
    }
   ],
   "source": [
    "p1"
   ]
  },
  {
   "cell_type": "markdown",
   "id": "dfb9fc0b",
   "metadata": {},
   "source": [
    "### There is a significant difference. In english: The difference between the samples (specifically the sample  means) is too large to be reasonably consistent with chance. "
   ]
  },
  {
   "cell_type": "code",
   "execution_count": 21,
   "id": "7c8d396d",
   "metadata": {},
   "outputs": [
    {
     "name": "stdout",
     "output_type": "stream",
     "text": [
      "Index(['10 things I hate about you (1999)', '12 Monkeys (1995)',\n",
      "       '13 going on 30 (2004)', '21 Grams (2003)', '25th hour (2002)',\n",
      "       '28 days later (2002)', '3000 Miles to Graceland (2001)',\n",
      "       '8 Mile (2002)', 'A Night at the Roxbury (1998) ',\n",
      "       'A time to kill (1996)',\n",
      "       ...\n",
      "       'Toy Story (1995)', 'Toy Story 2 (1999)', 'Unforgiven (1992)',\n",
      "       'What Lies Beneath (2000)', 'What Women Want (2000)',\n",
      "       'Wild Wild West (1999)', 'Wing Commander (1999)', 'X-Men (2000)',\n",
      "       'X2 (2003)', 'Zoolander (2001)'],\n",
      "      dtype='object', length=209)\n",
      "<class 'pandas.core.frame.DataFrame'>\n",
      "RangeIndex: 120 entries, 0 to 119\n",
      "Data columns (total 3 columns):\n",
      " #   Column  Non-Null Count  Dtype  \n",
      "---  ------  --------------  -----  \n",
      " 0   Value   120 non-null    float64\n",
      " 1   X1      120 non-null    int64  \n",
      " 2   X2      120 non-null    int64  \n",
      "dtypes: float64(1), int64(2)\n",
      "memory usage: 2.9 KB\n",
      "                sum_sq     df             F        PR(>F)\n",
      "X1        2.999991e+01    1.0  7.592603e+00  6.807788e-03\n",
      "X2        1.199999e+02    1.0  3.037049e+01  2.184996e-07\n",
      "X1:X2     6.600833e-11    1.0  1.670589e-11  9.999967e-01\n",
      "Residual  4.583395e+02  116.0           NaN           NaN\n"
     ]
    },
    {
     "data": {
      "image/png": "[encoded data removed]",
      "text/plain": [
       "<Figure size 432x288 with 1 Axes>"
      ]
     },
     "metadata": {
      "needs_background": "light"
     },
     "output_type": "display_data"
    },
    {
     "data": {
      "image/png": "[encoded data removed]",
      "text/plain": [
       "<Figure size 432x288 with 1 Axes>"
      ]
     },
     "metadata": {
      "needs_background": "light"
     },
     "output_type": "display_data"
    }
   ],
   "source": [
    "# Now let's compute the degrees of freedom (N1 + N2 - 2):\n",
    "df = int(descriptivesContainer[0,2] + descriptivesContainer[1,2] - 2)\n",
    "\n",
    "# How likely was our mean difference assuming chance? \n",
    "# The p-value is really small. 5% is an extremely liberal threshold.\n",
    "# p-values of real effects are very close to 0, if you have sufficient\n",
    "# power. They are distributed as a beta-distribution. Like this one.\n",
    "\n",
    "# Degrees of freedom for an independent samples t-test is:\n",
    "# Sample size1 + sample size2 - 2 (2 because we calculate 2 sample means and\n",
    "# we lose 1 df per sample mean). So the general equation for df is not n -\n",
    "# 1, it is n - k. \n",
    "\n",
    "# The independent samples t-test is the only one we can do, once we have\n",
    "# unequal n, but is it the right test? Did the data about the 2 movies come\n",
    "# from different populations? No. They are the same people. In reality, we\n",
    "# probably have much less df. \n",
    "\n",
    "# Mean of Matrix 2 and 3 seem rather close. Question: Plausibly due to chance\n",
    "# (sampling error) alone?\n",
    "t2,p2 = stats.ttest_ind(combinedData[1],combinedData[2])\n",
    "\n",
    "# We can do as many t-tests as we want. We will have to adjust the\n",
    "# alpha-level from 0.05 to 0.05/c, where c is the number of tests\n",
    "# (comparisons), that's called the \"Bonferroni correction\". \n",
    "\n",
    "# Even this comparison is significant, even after the Bonferroni correction,\n",
    "# so we conclude that this observed difference in ratings is not due to\n",
    "# chance alone. In other words, Matrix 2 is a better movie than Matrix 3. \n",
    "# Expectation: The p-value will be even lower than 1 vs. 2, because the\n",
    "# mean difference is larger, but it might not be, because the df will be\n",
    "# less (fewer people saw M3). The p value comes from the t-value in light of\n",
    "# the df (because the t-distribution is a family of distributions which\n",
    "# differs as df - that's a parameter).\n",
    "t3,p3 = stats.ttest_ind(combinedData[0],combinedData[2])\n",
    "\n",
    "# Do this with ANOVA - allows to compare more than 2 sample means without \n",
    "# inflating alpha (from multiple comparisons)\n",
    "f,p = stats.f_oneway(combinedData[0],combinedData[1],combinedData[2])\n",
    "\n",
    "# Nonparametric tests equivalent to t-tests - Mann-Whitney U test:\n",
    "# Test for comparing medians of ordinal data (such as movie ratings)\n",
    "# from 2 groups\n",
    "u1,p1 = stats.mannwhitneyu(combinedData[0],combinedData[1])\n",
    "u2,p2 = stats.mannwhitneyu(combinedData[0],combinedData[2])\n",
    "u3,p3 = stats.mannwhitneyu(combinedData[1],combinedData[2])\n",
    "\n",
    "# Nonparametric tests equivalent to ANOVA - Kruskal-Wallis:\n",
    "# Same assumptions as above, but for more than 2 groups\n",
    "h,p = stats.kruskal(combinedData[0],combinedData[1])\n",
    "    \n",
    "    \n",
    "\n",
    "# These are not different people. So we have to do a \"within subjects\"\n",
    "# design (repeated measures) - in other words do a paired samples t-test. \n",
    "# But to do that, we need to do row-wise removal of missing data \n",
    "\n",
    "    \n",
    "# Now, let's plot it:\n",
    "x = ['Matrix 1', 'Matrix 2', 'Matrix 3'] # labels for the bars\n",
    "xPos = np.array([1,2,3]) # x-values for the bars\n",
    "plt.bar(xPos,descriptivesContainer[:,0],width=0.5,yerr=descriptivesContainer[:,3]) # bars + error  \n",
    "plt.xticks(xPos, x) # label the x_pos with the labels\n",
    "plt.ylabel('Mean rating') # add y-label\n",
    "plt.title('f = {:.3f}'.format(f) + ', p = {:.3f}'.format(p)) # title is the test stat and p-value\n",
    "# Note: we round our p-value to the nearest thousandth, which in our case is 0.000\n",
    "# In reality, it is much smaller than that. Instead, we could have chosen to use\n",
    "# scientific notation in our title. More on that later.\n",
    "\n",
    "#%% Supplementary material 1: Representing the data with a Pandas dataframe and doing a 2-way ANOVA in Python and make an ANOVA table (and a means plot)\n",
    "\n",
    "import pandas as pd\n",
    "\n",
    "# 1. Load data:\n",
    "df = pd.read_csv('movieRatingsDeidentified.csv',skipinitialspace=True)\n",
    "# Fill empty strings with NaN\n",
    "# Now we have the headers AND the data in one object\n",
    "# This is a DataFrame. For handling tabular data.\n",
    "\n",
    "# 2. Let's get a handle on our movie titles:\n",
    "titles = df.columns \n",
    "print(titles)\n",
    "# We won't use this for subsequent analyses, but it's nice to see all the titles at once\n",
    "\n",
    "# 3. Find the Matrix data:\n",
    "title = 'Matrix' # or any other title, for that matter\n",
    "theMatrix = df.loc[:,df.columns.str.contains(title)]\n",
    "\n",
    "# 4. Perform descriptives:\n",
    "magic = theMatrix.describe()\n",
    "# We don't have to run a loop or initialize a container\n",
    "# We are still missing the SEM, so let's add it:\n",
    "temp = magic.iloc[2,:]/np.sqrt(magic.iloc[0,:])\n",
    "magic.loc['sem'] = temp\n",
    "\n",
    "#%% Supplementary material 2: Do a two-way ANOVA and show an ANOVA table\n",
    "\n",
    "import statsmodels.api as sm\n",
    "from statsmodels.formula.api import ols\n",
    "from statsmodels.graphics.factorplots import interaction_plot as meansPlot\n",
    "\n",
    "df = pd.read_csv('twoWayAnovaExample.csv',skipinitialspace=True) # load new data set\n",
    "df.info() # What is the structure of the data frame?\n",
    "\n",
    "model = ols('Value ~ X1 + X2 + X1:X2', data=df).fit() #Build the two-way ANOVA model. Value = y, X1,X2 = Main effects. X1:X2 = interaction effect\n",
    "anova_table = sm.stats.anova_lm(model, typ=2) #Create the ANOVA table. Residual = Within\n",
    "print(anova_table) #Show the ANOVA table\n",
    "\n",
    "#Show the corresponding means plot\n",
    "fig = meansPlot(x=df['X1'], trace=df['X2'], response=df['Value'])\n"
   ]
  },
  {
   "cell_type": "code",
   "execution_count": null,
   "id": "8f899e58",
   "metadata": {},
   "outputs": [],
   "source": []
  },
  {
   "cell_type": "code",
   "execution_count": null,
   "id": "4483788e",
   "metadata": {},
   "outputs": [],
   "source": []
  },
  {
   "cell_type": "code",
   "execution_count": null,
   "id": "0f9f332b",
   "metadata": {},
   "outputs": [],
   "source": []
  },
  {
   "cell_type": "code",
   "execution_count": null,
   "id": "8c50a652",
   "metadata": {},
   "outputs": [],
   "source": []
  },
  {
   "cell_type": "code",
   "execution_count": null,
   "id": "8fe8869a",
   "metadata": {},
   "outputs": [],
   "source": []
  },
  {
   "cell_type": "code",
   "execution_count": null,
   "id": "0c00b790",
   "metadata": {},
   "outputs": [],
   "source": []
  },
  {
   "cell_type": "code",
   "execution_count": null,
   "id": "a1ba463d",
   "metadata": {},
   "outputs": [],
   "source": []
  }
 ],
 "metadata": {
  "kernelspec": {
   "display_name": "Python 3 (ipykernel)",
   "language": "python",
   "name": "python3"
  },
  "language_info": {
   "codemirror_mode": {
    "name": "ipython",
    "version": 3
   },
   "file_extension": ".py",
   "mimetype": "text/x-python",
   "name": "python",
   "nbconvert_exporter": "python",
   "pygments_lexer": "ipython3",
   "version": "3.10.11"
  }
 },
 "nbformat": 4,
 "nbformat_minor": 5
}
