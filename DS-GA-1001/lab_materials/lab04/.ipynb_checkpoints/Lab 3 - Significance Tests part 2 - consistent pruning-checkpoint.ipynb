{
 "cells": [
  {
   "cell_type": "code",
   "execution_count": 3,
   "id": "24770d55",
   "metadata": {},
   "outputs": [],
   "source": [
    "startColumn = 177\n",
    "numMovies = 3 \n",
    "\n",
    "import pandas as pd\n",
    "import numpy as np\n",
    "from scipy import stats\n",
    "import matplotlib.pyplot as plt"
   ]
  },
  {
   "cell_type": "code",
   "execution_count": 4,
   "id": "bc0314fb",
   "metadata": {},
   "outputs": [],
   "source": [
    "data_df = pd.read_csv('movieRatingsDeidentified.csv')\n",
    "\n",
    "M1 = pd.to_numeric(data_df['The Matrix (1999)'],errors='coerce').values\n",
    "M2 = pd.to_numeric(data_df['The Matrix Reloaded (2003)'],errors='coerce').values\n",
    "M3 = pd.to_numeric(data_df['The Matrix Revolutions (2003)'],errors='coerce').values"
   ]
  },
  {
   "cell_type": "code",
   "execution_count": 5,
   "id": "93e8f17c",
   "metadata": {},
   "outputs": [],
   "source": [
    "# 2) Row wise:\n",
    "temp = np.array([pd.isnull(M1),pd.isnull(M2),pd.isnull(M3)],dtype=bool)\n",
    "temp2 = temp*1 # convert boolean to int\n",
    "temp2 = sum(temp2) # take sum of each participant\n",
    "missingData = np.where(temp2>0) # find participants with missing data\n",
    "M1 = np.delete(M1,missingData) # delete missing data from array\n",
    "M2 = np.delete(M2,missingData) # delete missing data from array\n",
    "M3 = np.delete(M3,missingData) # delete missing data from array\n",
    "# Good: We have equal n now. \n",
    "# Bad: We only have 1493 out of 3204 we started with left\n",
    "# That is a) suspicious, b) we lost a lot of power\n",
    "\n",
    "#%% 3 Reformatting - V1: Format data into a representation to work with\n",
    "\n",
    "combinedData = np.transpose(np.array([M1,M2,M3])) # 2D array\n",
    "# We can now put the data into a 2D array because we have an equal number\n",
    "# of rows for M1, M2 and M3"
   ]
  },
  {
   "cell_type": "code",
   "execution_count": 6,
   "id": "5790fcaf",
   "metadata": {},
   "outputs": [],
   "source": [
    "#%% 4a) Extrastriate cortex: Doing the actual specialized analyses\n",
    "# Descriptive statistics - we are looking for very special numbers that\n",
    "# capture the essence of the entire dataset - the typical number (central\n",
    "# tendency) and the dispersion. Typically mean and SD. \n",
    "\n",
    "# Initialize container to store descriptives:\n",
    "descriptivesContainer = np.empty([numMovies,4])\n",
    "descriptivesContainer[:] = np.NaN \n",
    "\n",
    "# 2. Row-wise:\n",
    "for ii in range(numMovies):\n",
    "    descriptivesContainer[ii,0] = np.mean(combinedData[:,ii]) # mu\n",
    "    descriptivesContainer[ii,1] = np.std(combinedData[:,ii]) # sigma\n",
    "    descriptivesContainer[ii,2] = len(combinedData[:,ii]) # n\n",
    "    descriptivesContainer[ii,3] = descriptivesContainer[ii,1]/np.sqrt(descriptivesContainer[ii,2]) # sem"
   ]
  },
  {
   "cell_type": "code",
   "execution_count": 7,
   "id": "a81883a4",
   "metadata": {},
   "outputs": [],
   "source": [
    "#%% 4b) Extrastriate cortex part II: Inferential statistics\n",
    "\n",
    "# Because our n's are now equal, we can now do a t-test for dependent\n",
    "# groups (which is much more appropriate, because our data came from the\n",
    "# *same* people, the groups WERE dependent, we previously inflated df)\n",
    "t1,p1 = stats.ttest_rel(combinedData[:,0],combinedData[:,1])\n",
    "df = len(combinedData) - 1"
   ]
  },
  {
   "cell_type": "code",
   "execution_count": 8,
   "id": "4142a294",
   "metadata": {},
   "outputs": [
    {
     "data": {
      "text/plain": [
       "35.36228453531538"
      ]
     },
     "execution_count": 8,
     "metadata": {},
     "output_type": "execute_result"
    }
   ],
   "source": [
    "t1"
   ]
  },
  {
   "cell_type": "code",
   "execution_count": 9,
   "id": "c1e3513f",
   "metadata": {},
   "outputs": [
    {
     "data": {
      "text/plain": [
       "1.821226142098274e-199"
      ]
     },
     "execution_count": 9,
     "metadata": {},
     "output_type": "execute_result"
    }
   ],
   "source": [
    "p1 # similar result"
   ]
  },
  {
   "cell_type": "code",
   "execution_count": 10,
   "id": "a50055e8",
   "metadata": {},
   "outputs": [],
   "source": [
    "# Df HERE is now n-1, because the t-test for dependent groups first\n",
    "# converts all scores to differences, then takes ONE mean, so we only\n",
    "# lose 1 df. Overall, we have much fewer df, than in the independent\n",
    "# samples t-test.\n",
    "# The p-value is even lower. How is that possible, given that df is\n",
    "# lower too? \n",
    "# In an independent samples t-test individual differences (some people\n",
    "# just don't like anything, or everything) all goes into the\n",
    "# denominator, in other words is interpreted as error. That lowers the\n",
    "# t-value. In a paired-samples t-test, everyone is their own control. So\n",
    "# the individual differences go away. In english: A paired samples\n",
    "# t-test is usually much more powerful, even if the df is lower. So you\n",
    "# should do this one, whenever you can. \n",
    "t2,p2 = stats.ttest_rel(combinedData[:,1],combinedData[:,2])\n",
    "t3,p3 = stats.ttest_rel(combinedData[:,0],combinedData[:,2])\n",
    "\n",
    "# Let's do an ANOVA instead:\n",
    "f,p = stats.f_oneway(combinedData[:,0],combinedData[:,1],combinedData[:,2])"
   ]
  },
  {
   "cell_type": "code",
   "execution_count": 11,
   "id": "24244914",
   "metadata": {},
   "outputs": [
    {
     "name": "stdout",
     "output_type": "stream",
     "text": [
      "8.876165711522443 1.9393379874537906e-18\n"
     ]
    }
   ],
   "source": [
    "print(t2,p2)"
   ]
  },
  {
   "cell_type": "code",
   "execution_count": 12,
   "id": "67486209",
   "metadata": {},
   "outputs": [
    {
     "name": "stdout",
     "output_type": "stream",
     "text": [
      "37.59739201354854 3.41017097275694e-218\n"
     ]
    }
   ],
   "source": [
    "print(t3,p3)"
   ]
  },
  {
   "cell_type": "code",
   "execution_count": 13,
   "id": "b0c9e5f7",
   "metadata": {},
   "outputs": [
    {
     "name": "stdout",
     "output_type": "stream",
     "text": [
      "449.76519305632667 1.021121829541273e-178\n"
     ]
    }
   ],
   "source": [
    "print(f,p)"
   ]
  },
  {
   "cell_type": "code",
   "execution_count": 14,
   "id": "5effb15f",
   "metadata": {},
   "outputs": [],
   "source": [
    "#%% 5 Motor cortex: Plot the data \n",
    "# Here we are going to plot the data from our ANOVA and add a title\n",
    "# that contains the f- and p-values\n",
    "\n",
    "# First, let's run our ANOVA once again:\n",
    "f,p = stats.f_oneway(combinedData[:,0],combinedData[:,1],combinedData[:,2])"
   ]
  },
  {
   "cell_type": "code",
   "execution_count": 15,
   "id": "010c4bb6",
   "metadata": {},
   "outputs": [
    {
     "data": {
      "text/plain": [
       "Text(0.5, 1.0, 'f = 449.765, p = 0.000')"
      ]
     },
     "execution_count": 15,
     "metadata": {},
     "output_type": "execute_result"
    },
    {
     "data": {
      "image/png": "[encoded data removed]",
      "text/plain": [
       "<Figure size 640x480 with 1 Axes>"
      ]
     },
     "metadata": {},
     "output_type": "display_data"
    }
   ],
   "source": [
    "# Now, let's plot it:\n",
    "x = ['Matrix 1', 'Matrix 2', 'Matrix 3'] # labels for the bars\n",
    "xPos = np.array([1,2,3]) # x-values for the bars\n",
    "plt.bar(xPos,descriptivesContainer[:,0],width=0.5,yerr=descriptivesContainer[:,3]) # bars + error  \n",
    "plt.xticks(xPos, x) # label the x_pos with the labels\n",
    "plt.ylabel('Mean rating') # add y-label\n",
    "plt.title('f = {:.3f}'.format(f) + ', p = {:.3f}'.format(p)) # title is the test stat and p-value"
   ]
  },
  {
   "cell_type": "code",
   "execution_count": 16,
   "id": "7c8d396d",
   "metadata": {},
   "outputs": [
    {
     "name": "stdout",
     "output_type": "stream",
     "text": [
      "Index(['10 things I hate about you (1999)', '12 Monkeys (1995)',\n",
      "       '13 going on 30 (2004)', '21 Grams (2003)', '25th hour (2002)',\n",
      "       '28 days later (2002)', '3000 Miles to Graceland (2001)',\n",
      "       '8 Mile (2002)', 'A Night at the Roxbury (1998) ',\n",
      "       'A time to kill (1996)',\n",
      "       ...\n",
      "       'Toy Story (1995)', 'Toy Story 2 (1999)', 'Unforgiven (1992)',\n",
      "       'What Lies Beneath (2000)', 'What Women Want (2000)',\n",
      "       'Wild Wild West (1999)', 'Wing Commander (1999)', 'X-Men (2000)',\n",
      "       'X2 (2003)', 'Zoolander (2001)'],\n",
      "      dtype='object', length=209)\n",
      "<class 'pandas.core.frame.DataFrame'>\n",
      "RangeIndex: 120 entries, 0 to 119\n",
      "Data columns (total 3 columns):\n",
      " #   Column  Non-Null Count  Dtype  \n",
      "---  ------  --------------  -----  \n",
      " 0   Value   120 non-null    float64\n",
      " 1   X1      120 non-null    int64  \n",
      " 2   X2      120 non-null    int64  \n",
      "dtypes: float64(1), int64(2)\n",
      "memory usage: 2.9 KB\n",
      "                sum_sq     df             F        PR(>F)\n",
      "X1        2.999991e+01    1.0  7.592603e+00  6.807788e-03\n",
      "X2        1.199999e+02    1.0  3.037049e+01  2.184996e-07\n",
      "X1:X2     6.600833e-11    1.0  1.670589e-11  9.999967e-01\n",
      "Residual  4.583395e+02  116.0           NaN           NaN\n"
     ]
    },
    {
     "data": {
      "image/png": "[encoded data removed]",
      "text/plain": [
       "<Figure size 640x480 with 1 Axes>"
      ]
     },
     "metadata": {},
     "output_type": "display_data"
    }
   ],
   "source": [
    "#%% Supplementary material 1: Representing the data with a Pandas dataframe and doing a 2-way ANOVA in Python and make an ANOVA table (and a means plot)\n",
    "\n",
    "import pandas as pd\n",
    "\n",
    "# 1. Load data:\n",
    "df = pd.read_csv('movieRatingsDeidentified.csv',skipinitialspace=True)\n",
    "# Fill empty strings with NaN\n",
    "# Now we have the headers AND the data in one object\n",
    "# This is a DataFrame. For handling tabular data.\n",
    "\n",
    "# 2. Let's get a handle on our movie titles:\n",
    "titles = df.columns \n",
    "print(titles)\n",
    "# We won't use this for subsequent analyses, but it's nice to see all the titles at once\n",
    "\n",
    "# 3. Find the Matrix data:\n",
    "title = 'Matrix' # or any other title, for that matter\n",
    "theMatrix = df.loc[:,df.columns.str.contains(title)]\n",
    "\n",
    "# 4. Perform descriptives:\n",
    "magic = theMatrix.describe()\n",
    "# We don't have to run a loop or initialize a container\n",
    "# We are still missing the SEM, so let's add it:\n",
    "temp = magic.iloc[2,:]/np.sqrt(magic.iloc[0,:])\n",
    "magic.loc['sem'] = temp\n",
    "\n",
    "#%% Supplementary material 2: Do a two-way ANOVA and show an ANOVA table\n",
    "\n",
    "import statsmodels.api as sm\n",
    "from statsmodels.formula.api import ols\n",
    "from statsmodels.graphics.factorplots import interaction_plot as meansPlot\n",
    "\n",
    "df = pd.read_csv('twoWayAnovaExample.csv',skipinitialspace=True) # load new data set\n",
    "df.info() # What is the structure of the data frame?\n",
    "\n",
    "model = ols('Value ~ X1 + X2 + X1:X2', data=df).fit() #Build the two-way ANOVA model. Value = y, X1,X2 = Main effects. X1:X2 = interaction effect\n",
    "anova_table = sm.stats.anova_lm(model, typ=2) #Create the ANOVA table. Residual = Within\n",
    "print(anova_table) #Show the ANOVA table\n",
    "\n",
    "#Show the corresponding means plot\n",
    "fig = meansPlot(x=df['X1'], trace=df['X2'], response=df['Value'])\n"
   ]
  },
  {
   "cell_type": "markdown",
   "id": "7524718a",
   "metadata": {},
   "source": [
    "## Try Yourself\n",
    "\n",
    "### Are\tDisney movies of inconsistent quality overall?\n",
    "\n",
    "### Pick a few disney movies and try to figure out if they are well liked/watched by the audience on the same scale"
   ]
  },
  {
   "cell_type": "code",
   "execution_count": null,
   "id": "a1ba463d",
   "metadata": {},
   "outputs": [],
   "source": []
  },
  {
   "cell_type": "code",
   "execution_count": null,
   "id": "5e873f3b",
   "metadata": {},
   "outputs": [],
   "source": []
  }
 ],
 "metadata": {
  "kernelspec": {
   "display_name": "Python 3 (ipykernel)",
   "language": "python",
   "name": "python3"
  },
  "language_info": {
   "codemirror_mode": {
    "name": "ipython",
    "version": 3
   },
   "file_extension": ".py",
   "mimetype": "text/x-python",
   "name": "python",
   "nbconvert_exporter": "python",
   "pygments_lexer": "ipython3",
   "version": "3.10.11"
  }
 },
 "nbformat": 4,
 "nbformat_minor": 5
}
