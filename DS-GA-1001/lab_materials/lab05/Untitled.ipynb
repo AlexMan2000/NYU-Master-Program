{
 "cells": [
  {
   "cell_type": "code",
   "execution_count": 1,
   "id": "9dd88dad",
   "metadata": {},
   "outputs": [],
   "source": [
    "import sqlite3\n",
    "import random\n",
    "import numpy as np\n",
    "import pandas as pd\n",
    "from scipy.stats import bootstrap, permutation_test\n",
    "import matplotlib.pyplot as plt\n",
    "import seaborn as sns\n",
    "sns.set()"
   ]
  },
  {
   "cell_type": "code",
   "execution_count": 2,
   "id": "393dd4dc",
   "metadata": {},
   "outputs": [],
   "source": [
    "# Step 1: Read CSV file\n",
    "df = pd.read_csv('movieRatingsData.csv') # ingest the data in one line\n",
    "df = df.apply(pd.to_numeric, errors='coerce') # makes sure all strings are converted to floats\n",
    "\n",
    "# Step 2: Connect to SQLite\n",
    "conn = sqlite3.connect('movie_ratings_data.db')\n",
    "\n",
    "# Step 3: Write the data to SQLite table\n",
    "df.to_sql('ratings_matrix', conn, index=False, if_exists='replace')\n",
    "\n",
    "# Step 4: Commit changes and close the connection\n",
    "conn.commit()\n",
    "conn.close()"
   ]
  },
  {
   "cell_type": "code",
   "execution_count": 3,
   "id": "de65f5fd",
   "metadata": {},
   "outputs": [],
   "source": [
    "# Step 1: Establish a new connection\n",
    "conn = sqlite3.connect('movie_ratings_data.db')\n",
    "\n",
    "# Step 2: Query all columns from the 'ratings_matrix' table\n",
    "query = 'SELECT * FROM ratings_matrix'\n",
    "data = pd.read_sql_query(query, conn)\n",
    "\n",
    "# Step 3: Close the connection\n",
    "conn.close()"
   ]
  },
  {
   "cell_type": "code",
   "execution_count": 5,
   "id": "c515dce9",
   "metadata": {},
   "outputs": [
    {
     "data": {
      "text/plain": [
       "Index(['10 things I hate about you (1999)', '12 Monkeys (1995)',\n",
       "       '13 going on 30 (2004)', '21 Grams (2003)', '25th hour (2002)',\n",
       "       '28 days later (2002)', '3000 Miles to Graceland (2001)',\n",
       "       '8 Mile (2002)', 'A Night at the Roxbury (1998) ',\n",
       "       'A time to kill (1996)',\n",
       "       ...\n",
       "       'Toy Story (1995)', 'Toy Story 2 (1999)', 'Unforgiven (1992)',\n",
       "       'What Lies Beneath (2000)', 'What Women Want (2000)',\n",
       "       'Wild Wild West (1999)', 'Wing Commander (1999)', 'X-Men (2000)',\n",
       "       'X2 (2003)', 'Zoolander (2001)'],\n",
       "      dtype='object', length=209)"
      ]
     },
     "execution_count": 5,
     "metadata": {},
     "output_type": "execute_result"
    }
   ],
   "source": [
    "data.columns"
   ]
  },
  {
   "cell_type": "code",
   "execution_count": 54,
   "id": "dd8d4a28",
   "metadata": {},
   "outputs": [],
   "source": [
    "film_1 = \"Reservoir Dogs (1992)\"\n",
    "film_2 = \"Good Will Hunting (1997)\""
   ]
  },
  {
   "cell_type": "code",
   "execution_count": 55,
   "id": "293bd42b",
   "metadata": {},
   "outputs": [],
   "source": [
    "sub_data = data[[film_1, film_2]]\n",
    "sub_data_row_drop = sub_data.dropna(axis=0)"
   ]
  },
  {
   "cell_type": "code",
   "execution_count": 56,
   "id": "2bfc94dc",
   "metadata": {},
   "outputs": [
    {
     "data": {
      "text/html": [
       "<div>\n",
       "<style scoped>\n",
       "    .dataframe tbody tr th:only-of-type {\n",
       "        vertical-align: middle;\n",
       "    }\n",
       "\n",
       "    .dataframe tbody tr th {\n",
       "        vertical-align: top;\n",
       "    }\n",
       "\n",
       "    .dataframe thead th {\n",
       "        text-align: right;\n",
       "    }\n",
       "</style>\n",
       "<table border=\"1\" class=\"dataframe\">\n",
       "  <thead>\n",
       "    <tr style=\"text-align: right;\">\n",
       "      <th></th>\n",
       "      <th>Reservoir Dogs (1992)</th>\n",
       "      <th>Good Will Hunting (1997)</th>\n",
       "    </tr>\n",
       "  </thead>\n",
       "  <tbody>\n",
       "    <tr>\n",
       "      <th>0</th>\n",
       "      <td>3.5</td>\n",
       "      <td>3.5</td>\n",
       "    </tr>\n",
       "    <tr>\n",
       "      <th>1</th>\n",
       "      <td>4.0</td>\n",
       "      <td>4.0</td>\n",
       "    </tr>\n",
       "    <tr>\n",
       "      <th>4</th>\n",
       "      <td>1.5</td>\n",
       "      <td>3.5</td>\n",
       "    </tr>\n",
       "    <tr>\n",
       "      <th>5</th>\n",
       "      <td>4.0</td>\n",
       "      <td>3.5</td>\n",
       "    </tr>\n",
       "    <tr>\n",
       "      <th>6</th>\n",
       "      <td>3.5</td>\n",
       "      <td>4.0</td>\n",
       "    </tr>\n",
       "    <tr>\n",
       "      <th>...</th>\n",
       "      <td>...</td>\n",
       "      <td>...</td>\n",
       "    </tr>\n",
       "    <tr>\n",
       "      <th>3160</th>\n",
       "      <td>3.0</td>\n",
       "      <td>3.5</td>\n",
       "    </tr>\n",
       "    <tr>\n",
       "      <th>3163</th>\n",
       "      <td>4.0</td>\n",
       "      <td>3.5</td>\n",
       "    </tr>\n",
       "    <tr>\n",
       "      <th>3169</th>\n",
       "      <td>4.0</td>\n",
       "      <td>2.5</td>\n",
       "    </tr>\n",
       "    <tr>\n",
       "      <th>3185</th>\n",
       "      <td>4.0</td>\n",
       "      <td>3.0</td>\n",
       "    </tr>\n",
       "    <tr>\n",
       "      <th>3199</th>\n",
       "      <td>4.0</td>\n",
       "      <td>2.5</td>\n",
       "    </tr>\n",
       "  </tbody>\n",
       "</table>\n",
       "<p>1062 rows × 2 columns</p>\n",
       "</div>"
      ],
      "text/plain": [
       "      Reservoir Dogs (1992)  Good Will Hunting (1997)\n",
       "0                       3.5                       3.5\n",
       "1                       4.0                       4.0\n",
       "4                       1.5                       3.5\n",
       "5                       4.0                       3.5\n",
       "6                       3.5                       4.0\n",
       "...                     ...                       ...\n",
       "3160                    3.0                       3.5\n",
       "3163                    4.0                       3.5\n",
       "3169                    4.0                       2.5\n",
       "3185                    4.0                       3.0\n",
       "3199                    4.0                       2.5\n",
       "\n",
       "[1062 rows x 2 columns]"
      ]
     },
     "execution_count": 56,
     "metadata": {},
     "output_type": "execute_result"
    }
   ],
   "source": [
    "sub_data_row_drop"
   ]
  },
  {
   "cell_type": "code",
   "execution_count": 57,
   "id": "df0eed5b",
   "metadata": {},
   "outputs": [
    {
     "data": {
      "text/plain": [
       "0.0475517890772128"
      ]
     },
     "execution_count": 57,
     "metadata": {},
     "output_type": "execute_result"
    }
   ],
   "source": [
    "pulp = sub_data_row_drop[film_1]\n",
    "magno = sub_data_row_drop[film_2]\n",
    "test_stat = pulp.mean() - magno.mean()\n",
    "test_stat"
   ]
  },
  {
   "cell_type": "code",
   "execution_count": 58,
   "id": "f555ed6c",
   "metadata": {},
   "outputs": [],
   "source": [
    "# Start permutation test\n",
    "num_reps = int(1e4) # same number as before\n",
    "joint_data = np.concatenate((pulp, magno)) # joint representation of both ratings arrays\n",
    "n1 = len(pulp) \n",
    "n2 = len(joint_data)\n",
    "rng = np.random.default_rng(69420)\n",
    "shuffled_stats = []\n",
    "for i in range(num_reps): # loop thru each\n",
    "    shuffled_indices = rng.permutation(n2) # randomly shuffle n2\n",
    "    shuffled_group_1 = joint_data[shuffled_indices[:n1]]\n",
    "    shuffled_group_2 = joint_data[shuffled_indices[n1:]]\n",
    "    shuffled_stats.append(np.mean(shuffled_group_1) - np.mean(shuffled_group_2))"
   ]
  },
  {
   "cell_type": "code",
   "execution_count": 59,
   "id": "6cdc5040",
   "metadata": {},
   "outputs": [
    {
     "data": {
      "image/png": "[encoded data removed]",
      "text/plain": [
       "<Figure size 1000x600 with 1 Axes>"
      ]
     },
     "metadata": {},
     "output_type": "display_data"
    }
   ],
   "source": [
    "plt.figure(figsize=(10,6))\n",
    "plt.hist(shuffled_stats, bins=50, density=True, color='lightgrey', label='null distribution')\n",
    "plt.vlines(test_stat, 0, 12, color='orange', ls='--', label='test_stat')\n",
    "plt.title('Null distribution vs. empirical value of our test statistic')\n",
    "plt.legend()\n",
    "plt.show()"
   ]
  },
  {
   "cell_type": "code",
   "execution_count": 60,
   "id": "52b2a087",
   "metadata": {},
   "outputs": [
    {
     "name": "stdout",
     "output_type": "stream",
     "text": [
      "p-val: 0.1281\n"
     ]
    }
   ],
   "source": [
    "p_val = len(np.argwhere(shuffled_stats>=test_stat))/num_reps\n",
    "print('p-val:', p_val)"
   ]
  },
  {
   "cell_type": "code",
   "execution_count": 75,
   "id": "13f38f59",
   "metadata": {},
   "outputs": [],
   "source": [
    "sub_data_zoo = data[\"Saving Private Ryan (1998)\"]"
   ]
  },
  {
   "cell_type": "code",
   "execution_count": 76,
   "id": "2a1e1a12",
   "metadata": {},
   "outputs": [],
   "source": [
    "sub_data_zoo_drop = sub_data_zoo.dropna()"
   ]
  },
  {
   "cell_type": "code",
   "execution_count": 77,
   "id": "c584323f",
   "metadata": {},
   "outputs": [
    {
     "data": {
      "text/plain": [
       "BootstrapResult(confidence_interval=ConfidenceInterval(low=3.107749974296316, high=3.1865032327586205), bootstrap_distribution=array([3.12241379, 3.13283944, 3.12443427, ..., 3.13316272, 3.16136853,\n",
       "       3.12020474]), standard_error=0.020231518240036068)"
      ]
     },
     "execution_count": 77,
     "metadata": {},
     "output_type": "execute_result"
    }
   ],
   "source": [
    "# input data has to be a sequence\n",
    "bootstrap_ci = bootstrap((list(sub_data_zoo_drop),), \n",
    "                         np.mean, \n",
    "                         n_resamples = int(1e4), \n",
    "                         random_state=0, \n",
    "                         confidence_level=0.95)\n",
    "bootstrap_ci"
   ]
  },
  {
   "cell_type": "code",
   "execution_count": 78,
   "id": "4431436c",
   "metadata": {},
   "outputs": [],
   "source": [
    "ratings_array = np.array(sub_data_zoo_drop) # set the movie of interest's ratings as ratings_array\n",
    "num_experiments = int(1e4) # number of times to simulate the statistical experiment\n",
    "n_samples = len(ratings_array) # play around at home with different values and note the differences\n",
    "rng = np.random.default_rng(69420) # set the seed to any number\n",
    "bootstrapped_means = [] # init empty list\n",
    "for i in range(num_experiments): # loop through each exp\n",
    "    random_idx = rng.integers(low=0, high=len(ratings_array), size=n_samples) # note: with replacement\n",
    "    bootstrapped_means.append(ratings_array[random_idx].mean()) # compute the mean and store in correspoinding element of hte list"
   ]
  },
  {
   "cell_type": "code",
   "execution_count": 79,
   "id": "21397a28",
   "metadata": {},
   "outputs": [],
   "source": [
    "confidence_level = 0.95\n",
    "sorted_data = np.sort(bootstrapped_means) # sort the values\n",
    "lower_percentile = (1 - confidence_level)/2\n",
    "upper_percentile = 1 - lower_percentile\n",
    "lower_index = int(lower_percentile*num_experiments)\n",
    "upper_index = num_experiments - lower_index\n",
    "lower_bound = sorted_data[lower_index]\n",
    "upper_bound = sorted_data[upper_index]"
   ]
  },
  {
   "cell_type": "code",
   "execution_count": 80,
   "id": "f40a5d84",
   "metadata": {},
   "outputs": [
    {
     "data": {
      "image/png": "[encoded data removed]",
      "text/plain": [
       "<Figure size 1000x600 with 1 Axes>"
      ]
     },
     "metadata": {},
     "output_type": "display_data"
    }
   ],
   "source": [
    "plt.figure(figsize=(10,6))\n",
    "plt.hist(bootstrapped_means, bins=50, density=True, color='lightgrey', label='bootstrapped_means')\n",
    "plt.vlines(np.mean(ratings_array), 0, 25, color='orange', ls='--', label='orange_line_for_the_fox') # emp. sample mean\n",
    "plt.vlines(lower_bound, 0, 25, color='black', ls='--', label='95%CI')\n",
    "plt.vlines(upper_bound, 0, 25, color='black', ls='--')\n",
    "plt.xlabel('Mean rating')\n",
    "plt.ylabel('Normalized count')\n",
    "plt.legend()\n",
    "plt.show()"
   ]
  },
  {
   "cell_type": "code",
   "execution_count": 81,
   "id": "8048d1da",
   "metadata": {},
   "outputs": [
    {
     "name": "stdout",
     "output_type": "stream",
     "text": [
      "p-val: 0.7473060344827587\n"
     ]
    }
   ],
   "source": [
    "p_val = len(np.argwhere(ratings_array>=3))/len(ratings_array)\n",
    "print('p-val:', p_val)"
   ]
  },
  {
   "cell_type": "code",
   "execution_count": 66,
   "id": "941e5c95",
   "metadata": {},
   "outputs": [
    {
     "data": {
      "text/plain": [
       "0.0012393278456679661"
      ]
     },
     "execution_count": 66,
     "metadata": {},
     "output_type": "execute_result"
    }
   ],
   "source": [
    "whole = 0\n",
    "valid = 0\n",
    "for a in range(27):\n",
    "    for b in range(27):\n",
    "        for c in range(27):\n",
    "            for d in range(27):\n",
    "                for e in range(27):\n",
    "                    whole += 1\n",
    "                    if a + b + c + d + e == 26 and 200*a+400*b+600*c+800*d+1000*e >= 14400:\n",
    "                        valid+=1\n",
    "valid / whole"
   ]
  },
  {
   "cell_type": "code",
   "execution_count": null,
   "id": "b283e781",
   "metadata": {},
   "outputs": [],
   "source": []
  },
  {
   "cell_type": "code",
   "execution_count": null,
   "id": "4b74d75e",
   "metadata": {},
   "outputs": [],
   "source": []
  },
  {
   "cell_type": "code",
   "execution_count": null,
   "id": "2bbe73a0",
   "metadata": {},
   "outputs": [],
   "source": []
  }
 ],
 "metadata": {
  "kernelspec": {
   "display_name": "Python 3 (ipykernel)",
   "language": "python",
   "name": "python3"
  },
  "language_info": {
   "codemirror_mode": {
    "name": "ipython",
    "version": 3
   },
   "file_extension": ".py",
   "mimetype": "text/x-python",
   "name": "python",
   "nbconvert_exporter": "python",
   "pygments_lexer": "ipython3",
   "version": "3.10.11"
  }
 },
 "nbformat": 4,
 "nbformat_minor": 5
}
