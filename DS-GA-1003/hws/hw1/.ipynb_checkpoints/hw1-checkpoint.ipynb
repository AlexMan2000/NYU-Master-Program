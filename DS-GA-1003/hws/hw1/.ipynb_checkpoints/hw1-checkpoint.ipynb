{
 "cells": [
  {
   "cell_type": "code",
   "execution_count": 1,
   "metadata": {},
   "outputs": [],
   "source": [
    "from torch.utils.data import Dataset\n",
    "import torch\n",
    "import matplotlib.pyplot as plt"
   ]
  },
  {
   "cell_type": "code",
   "execution_count": 129,
   "metadata": {},
   "outputs": [
    {
     "data": {
      "text/plain": [
       "<function torch._VariableFunctionsClass.inverse>"
      ]
     },
     "execution_count": 129,
     "metadata": {},
     "output_type": "execute_result"
    }
   ],
   "source": []
  },
  {
   "cell_type": "markdown",
   "metadata": {},
   "source": [
    "# Problem 1"
   ]
  },
  {
   "cell_type": "markdown",
   "metadata": {},
   "source": [
    "## (A)"
   ]
  },
  {
   "cell_type": "code",
   "execution_count": 105,
   "metadata": {},
   "outputs": [],
   "source": [
    "import numpy as np\n",
    "# Pick w_true\n",
    "w_true = torch.Tensor([10])\n",
    "\n",
    "# Parameters\n",
    "D = 10\n",
    "c = 3\n",
    "\n",
    "# Step 2\n",
    "def compute_mean_std_iter(D, c):\n",
    "    Z = torch.randn(size = (D,))\n",
    "    A = torch.Tensor(torch.Tensor(c * np.ones((D, D)) - np.diag([c-1] * D)))\n",
    "    \n",
    "\n",
    "    # Generating dataset\n",
    "    x = A.mm(Z)\n",
    "    y = w_true[0] * x[0] + epsilon\n",
    "\n",
    "\n",
    "    # Compute OLS\n",
    "    OLS_all = \n",
    "\n",
    "\n",
    "# Step 3\n",
    "def run_T_iters():\n",
    "    pass\n",
    "\n",
    "\n",
    "# Step 4\n",
    "def run_D_c():\n",
    "    pass"
   ]
  },
  {
   "cell_type": "code",
   "execution_count": 107,
   "metadata": {},
   "outputs": [
    {
     "data": {
      "text/plain": [
       "tensor(10.)"
      ]
     },
     "execution_count": 107,
     "metadata": {},
     "output_type": "execute_result"
    }
   ],
   "source": [
    "w_true[0]"
   ]
  },
  {
   "cell_type": "code",
   "execution_count": 104,
   "metadata": {},
   "outputs": [
    {
     "data": {
      "text/plain": [
       "tensor([[ 1., 30., 30.,  ..., 30., 30., 30.],\n",
       "        [30.,  1., 30.,  ..., 30., 30., 30.],\n",
       "        [30., 30.,  1.,  ..., 30., 30., 30.],\n",
       "        ...,\n",
       "        [30., 30., 30.,  ...,  1., 30., 30.],\n",
       "        [30., 30., 30.,  ..., 30.,  1., 30.],\n",
       "        [30., 30., 30.,  ..., 30., 30.,  1.]])"
      ]
     },
     "execution_count": 104,
     "metadata": {},
     "output_type": "execute_result"
    }
   ],
   "source": [
    "import numpy as np\n",
    "D = 50\n",
    "c = 30\n"
   ]
  },
  {
   "cell_type": "code",
   "execution_count": 2,
   "metadata": {},
   "outputs": [
    {
     "ename": "NameError",
     "evalue": "name 'np' is not defined",
     "output_type": "error",
     "traceback": [
      "\u001b[1;31m---------------------------------------------------------------------------\u001b[0m",
      "\u001b[1;31mNameError\u001b[0m                                 Traceback (most recent call last)",
      "Cell \u001b[1;32mIn[2], line 4\u001b[0m\n\u001b[0;32m      2\u001b[0m c \u001b[38;5;241m=\u001b[39m \u001b[38;5;241m3\u001b[39m\n\u001b[0;32m      3\u001b[0m Z \u001b[38;5;241m=\u001b[39m torch\u001b[38;5;241m.\u001b[39mrandn(size \u001b[38;5;241m=\u001b[39m (D,))\n\u001b[1;32m----> 4\u001b[0m A \u001b[38;5;241m=\u001b[39m torch\u001b[38;5;241m.\u001b[39mlinalg\u001b[38;5;241m.\u001b[39minv(torch\u001b[38;5;241m.\u001b[39mTensor(torch\u001b[38;5;241m.\u001b[39mTensor(c \u001b[38;5;241m*\u001b[39m \u001b[43mnp\u001b[49m\u001b[38;5;241m.\u001b[39mones((D, D)) \u001b[38;5;241m-\u001b[39m np\u001b[38;5;241m.\u001b[39mdiag([c\u001b[38;5;241m-\u001b[39m\u001b[38;5;241m1\u001b[39m] \u001b[38;5;241m*\u001b[39m D))))\n\u001b[0;32m      7\u001b[0m \u001b[38;5;66;03m# Generating dataset\u001b[39;00m\n\u001b[0;32m      8\u001b[0m x \u001b[38;5;241m=\u001b[39m A \u001b[38;5;241m@\u001b[39m Z\n",
      "\u001b[1;31mNameError\u001b[0m: name 'np' is not defined"
     ]
    }
   ],
   "source": [
    "D = 10\n",
    "c = 3\n",
    "Z = torch.randn(size = (D,))\n",
    "A = torch.linalg.inv(torch.Tensor(torch.Tensor(c * np.ones((D, D)) - np.diag([c-1] * D))))\n",
    "\n",
    "\n",
    "# Generating dataset\n",
    "x = A @ Z\n",
    "A"
   ]
  },
  {
   "cell_type": "code",
   "execution_count": 108,
   "metadata": {},
   "outputs": [
    {
     "data": {
      "text/plain": [
       "tensor([-0.3271, -0.5924,  0.1143, -0.1109,  0.2006,  0.3216, -1.0505,  1.0112,\n",
       "        -0.9949, -0.6205, -0.9321,  0.5541,  1.0906,  1.4826,  1.0462,  0.8036,\n",
       "         0.1644, -0.5262, -1.2203, -0.3413,  0.0668,  0.6269,  0.0540,  1.6315,\n",
       "         0.0424,  1.7615,  0.8473,  0.0069,  1.6912,  0.6234, -2.0602,  0.4387,\n",
       "         0.8900,  1.7745,  0.6636,  0.2012, -0.7204,  2.3490, -0.1198, -1.7682,\n",
       "        -0.4420, -2.1229,  0.1174, -0.6316,  0.7178,  0.2188, -1.9282, -0.9366,\n",
       "         0.5628,  0.5643,  0.9640,  1.5143, -0.1615,  1.0106,  0.3818,  1.9352,\n",
       "        -0.4171, -0.1675,  0.8263, -0.8899, -1.7185,  1.0473,  0.9545,  1.6712,\n",
       "         0.1959, -0.7145,  0.2495,  1.1903, -0.0999, -0.4432, -1.1702,  1.8915,\n",
       "         0.7712, -0.1536,  0.2558,  0.7819, -0.0232, -0.4603,  1.8825,  0.8285,\n",
       "         0.0692, -0.8173,  0.3734,  1.0121, -1.3771, -0.5928, -0.8035, -0.3794,\n",
       "        -2.2410,  1.1652,  0.6942, -0.1157, -1.0730,  1.4044,  0.3404, -0.9477,\n",
       "        -0.5858,  1.3637, -1.3346, -1.1510])"
      ]
     },
     "execution_count": 108,
     "metadata": {},
     "output_type": "execute_result"
    }
   ],
   "source": [
    "torch.randn(100)"
   ]
  },
  {
   "cell_type": "code",
   "execution_count": 128,
   "metadata": {},
   "outputs": [
    {
     "ename": "RuntimeError",
     "evalue": "inverse: LAPACK library not found in compilation",
     "output_type": "error",
     "traceback": [
      "\u001b[1;31m---------------------------------------------------------------------------\u001b[0m",
      "\u001b[1;31mRuntimeError\u001b[0m                              Traceback (most recent call last)",
      "Cell \u001b[1;32mIn[128], line 1\u001b[0m\n\u001b[1;32m----> 1\u001b[0m \u001b[43mtorch\u001b[49m\u001b[38;5;241;43m.\u001b[39;49m\u001b[43minverse\u001b[49m\u001b[43m(\u001b[49m\u001b[43mA\u001b[49m\u001b[43m)\u001b[49m\n",
      "\u001b[1;31mRuntimeError\u001b[0m: inverse: LAPACK library not found in compilation"
     ]
    }
   ],
   "source": [
    "torch.inverse(A)"
   ]
  },
  {
   "cell_type": "markdown",
   "metadata": {},
   "source": [
    "# Problem 2"
   ]
  },
  {
   "cell_type": "markdown",
   "metadata": {},
   "source": [
    "## (A)"
   ]
  },
  {
   "cell_type": "code",
   "execution_count": 89,
   "metadata": {},
   "outputs": [
    {
     "data": {
      "text/plain": [
       "<matplotlib.legend.Legend at 0x217c679fc10>"
      ]
     },
     "execution_count": 89,
     "metadata": {},
     "output_type": "execute_result"
    },
    {
     "data": {
      "image/png": "[encoded data removed]",
      "text/plain": [
       "<Figure size 640x480 with 1 Axes>"
      ]
     },
     "metadata": {},
     "output_type": "display_data"
    }
   ],
   "source": [
    "class BLRM_A(Dataset):\n",
    "    def __init__(self, size = 100, data = None, labels = None):\n",
    "\n",
    "        self.data = self.generate_data(size)[0] if data is None else data\n",
    "        self.labels = self.generate_data(size)[1] if labels is None else labels\n",
    "        \n",
    "\n",
    "    def __len__(self):\n",
    "        return len(self.data)\n",
    "\n",
    "    def __getitem__(self, index):\n",
    "        # Retrieve the sample and label at the specified index\n",
    "        \n",
    "        sample = self.data[index]\n",
    "        label = self.labels[index]\n",
    "\n",
    "        return sample, label\n",
    "    \n",
    "    def compute_X_mean(self):\n",
    "        return self.data\n",
    "\n",
    "    def generate_data(self, size, w_true = 1):\n",
    "        # Parameters for data generation\n",
    "        sigma_epsilon = 1\n",
    "\n",
    "        # Generate random inputs x ~ N(0, 1)\n",
    "        x = torch.randn(size) \n",
    "\n",
    "        # Generate outputs \n",
    "        epsilon = sigma_epsilon * torch.randn(size)\n",
    "        y = w_true * x.pow(2) + epsilon\n",
    "\n",
    "        return (x,y)\n",
    "\n",
    "\n",
    "def compute_posterior_A(x, y, prior_mean, prior_variance, likeli_variance):\n",
    "    N = list(x.size())[0]\n",
    "\n",
    "    posterior_mean = (x.dot(y) * prior_variance + prior_mean * likeli_variance) / (prior_variance * (x.dot(x)) + likeli_variance)\n",
    "    posterior_variance =  (likeli_variance * prior_variance) / (prior_variance * x.dot(x) + likeli_variance)\n",
    "    return posterior_mean, posterior_variance\n",
    "\n",
    "\n",
    "N_list = [10, 100, 1000, 10000, 100000]\n",
    "\n",
    "posterior_mean_list = []\n",
    "posterior_variance_list = []\n",
    "for N in N_list:\n",
    "    dataset_N = BLRM_A(N)\n",
    "\n",
    "    likeli_variance = 1\n",
    "    prior_mean = 0\n",
    "    prior_variance = 1\n",
    "    posterior_mean, posterior_variance = compute_posterior_A(dataset_N.data, dataset_N.labels, prior_mean, prior_variance, likeli_variance)\n",
    "    posterior_mean_list.append(posterior_mean)\n",
    "    posterior_variance_list.append(posterior_variance)\n",
    "\n",
    "plt.plot(N_list, posterior_mean_list, label=\"posterior_mean\")\n",
    "plt.plot(N_list, posterior_variance_list, c=\"red\", label=\"posterior_variance\")\n",
    "plt.legend()\n"
   ]
  },
  {
   "cell_type": "code",
   "execution_count": 82,
   "metadata": {},
   "outputs": [
    {
     "data": {
      "text/plain": [
       "tensor(20, dtype=torch.int32)"
      ]
     },
     "execution_count": 82,
     "metadata": {},
     "output_type": "execute_result"
    }
   ],
   "source": [
    "import numpy as np\n",
    "a = torch.tensor(np.array([1,2,3]))\n",
    "b = torch.tensor(np.array([2,3,4]))\n",
    "a.dot(b)"
   ]
  },
  {
   "cell_type": "markdown",
   "metadata": {},
   "source": [
    "# (C)"
   ]
  },
  {
   "cell_type": "code",
   "execution_count": 3,
   "metadata": {},
   "outputs": [
    {
     "ename": "TypeError",
     "evalue": "compute_posterior_C() missing 1 required positional argument: 'likeli_variance'",
     "output_type": "error",
     "traceback": [
      "\u001b[1;31m---------------------------------------------------------------------------\u001b[0m",
      "\u001b[1;31mTypeError\u001b[0m                                 Traceback (most recent call last)",
      "Cell \u001b[1;32mIn[3], line 56\u001b[0m\n\u001b[0;32m     54\u001b[0m prior_mean \u001b[38;5;241m=\u001b[39m \u001b[38;5;241m0\u001b[39m\n\u001b[0;32m     55\u001b[0m prior_variance \u001b[38;5;241m=\u001b[39m \u001b[38;5;241m1\u001b[39m\n\u001b[1;32m---> 56\u001b[0m posterior_mean, posterior_variance \u001b[38;5;241m=\u001b[39m \u001b[43mcompute_posterior_C\u001b[49m\u001b[43m(\u001b[49m\u001b[43mdataset_N\u001b[49m\u001b[38;5;241;43m.\u001b[39;49m\u001b[43mdata\u001b[49m\u001b[43m,\u001b[49m\u001b[43m \u001b[49m\u001b[43mprior_mean\u001b[49m\u001b[43m,\u001b[49m\u001b[43m \u001b[49m\u001b[43mprior_variance\u001b[49m\u001b[43m,\u001b[49m\u001b[43m \u001b[49m\u001b[43mlikeli_variance\u001b[49m\u001b[43m)\u001b[49m\n\u001b[0;32m     57\u001b[0m posterior_mean_list\u001b[38;5;241m.\u001b[39mappend(posterior_mean)\n\u001b[0;32m     58\u001b[0m posterior_variance_list\u001b[38;5;241m.\u001b[39mappend(posterior_variance)\n",
      "\u001b[1;31mTypeError\u001b[0m: compute_posterior_C() missing 1 required positional argument: 'likeli_variance'"
     ]
    }
   ],
   "source": [
    "class BLRM_C(Dataset):\n",
    "    def __init__(self, size = 100, data = None, labels = None):\n",
    "\n",
    "        self.data = self.generate_data(size)[0] if data is None else data\n",
    "        self.labels = self.generate_data(size)[1] if labels is None else labels\n",
    "        \n",
    "\n",
    "    def __len__(self):\n",
    "        return len(self.data)\n",
    "\n",
    "    def __getitem__(self, index):\n",
    "        # Retrieve the sample and label at the specified index\n",
    "        \n",
    "        sample = self.data[index]\n",
    "        label = self.labels[index]\n",
    "\n",
    "        return sample, label\n",
    "    \n",
    "    def compute_X_mean(self):\n",
    "        return self.data\n",
    "\n",
    "    def generate_data(self, size, w_true = 1):\n",
    "        # Parameters for data generation\n",
    "        sigma_epsilon = 1\n",
    "\n",
    "        # Generate random inputs x ~ N(0, 1)\n",
    "        x = torch.randn(size)\n",
    "\n",
    "        # Generate outputs \n",
    "        epsilon = sigma_epsilon * torch.randn(size)\n",
    "        y = w_true * x.pow(2) + epsilon\n",
    "\n",
    "        return (x,y)\n",
    "\n",
    "def compute_posterior_C(x, y, prior_mean, prior_variance, likeli_variance):\n",
    "    # Construct data matrix\n",
    "    x = x.reshape(-1,1)\n",
    "    X = torch.cat([x, x.pow(2)],dim = 1)\n",
    "\n",
    "    posterior_variance = torch.inv(torch.inv(prior_variance) + 1 / likeli_variance * X.t().mm(X))\n",
    "    posterior_mean = posterior_variance.mm(torch.inv(prior_variance).mm(prior_mean) + 1 / prior_variance * X.t().mm(y))\n",
    "\n",
    "    return posterior_mean, posterior_variance\n",
    "\n",
    "\n",
    "N_list = [10, 100, 1000, 10000]\n",
    "\n",
    "posterior_mean_list = []\n",
    "posterior_variance_list = []\n",
    "for N in N_list:\n",
    "    dataset_N = BLRM_C(N)\n",
    "\n",
    "    likeli_variance = 1\n",
    "    prior_mean = 0\n",
    "    prior_variance = 1\n",
    "    posterior_mean, posterior_variance = compute_posterior_C(dataset_N.data, prior_mean, prior_variance, likeli_variance)\n",
    "    posterior_mean_list.append(posterior_mean)\n",
    "    posterior_variance_list.append(posterior_variance)\n",
    "\n",
    "plt.plot(N_list, posterior_mean_list, label=\"posterior_mean\")\n",
    "plt.plot(N_list, posterior_variance_list, c=\"red\", label=\"posterior_variance\")\n",
    "plt.legend()"
   ]
  },
  {
   "cell_type": "code",
   "execution_count": 71,
   "metadata": {},
   "outputs": [
    {
     "data": {
      "text/plain": [
       "tensor([[1, 1],\n",
       "        [2, 2],\n",
       "        [3, 3]], dtype=torch.int32)"
      ]
     },
     "execution_count": 71,
     "metadata": {},
     "output_type": "execute_result"
    }
   ],
   "source": [
    "import numpy as np\n",
    "t = torch.tensor(np.array([1,2,3]))\n",
    "t_1 = t.pow(2)\n",
    "torch.cat([t.reshape(-1,1), t.reshape(-1,1)], dim=1)"
   ]
  },
  {
   "cell_type": "code",
   "execution_count": null,
   "metadata": {},
   "outputs": [],
   "source": []
  }
 ],
 "metadata": {
  "kernelspec": {
   "display_name": "Python 3 (ipykernel)",
   "language": "python",
   "name": "python3"
  },
  "language_info": {
   "codemirror_mode": {
    "name": "ipython",
    "version": 3
   },
   "file_extension": ".py",
   "mimetype": "text/x-python",
   "name": "python",
   "nbconvert_exporter": "python",
   "pygments_lexer": "ipython3",
   "version": "3.10.11"
  }
 },
 "nbformat": 4,
 "nbformat_minor": 2
}
